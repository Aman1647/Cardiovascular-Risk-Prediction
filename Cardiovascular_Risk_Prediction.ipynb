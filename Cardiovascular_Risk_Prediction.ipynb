{
  "nbformat": 4,
  "nbformat_minor": 0,
  "metadata": {
    "colab": {
      "private_outputs": true,
      "provenance": [],
      "collapsed_sections": [
        "vncDsAP0Gaoa",
        "FJNUwmbgGyua",
        "yQaldy8SH6Dl",
        "O_i_v8NEhb9l",
        "HhfV-JJviCcP",
        "Y3lxredqlCYt",
        "3RnN4peoiCZX",
        "x71ZqKXriCWQ",
        "7hBIi_osiCS2",
        "JlHwYmJAmNHm",
        "35m5QtbWiB9F",
        "PoPl-ycgm1ru",
        "H0kj-8xxnORC",
        "nA9Y7ga8ng1Z",
        "PBTbrJXOngz2",
        "u3PMJOP6ngxN",
        "dauF4eBmngu3",
        "bKJF3rekwFvQ",
        "MSa1f5Uengrz",
        "GF8Ens_Soomf",
        "0wOQAZs5pc--",
        "K5QZ13OEpz2H",
        "lQ7QKXXCp7Bj",
        "448CDAPjqfQr",
        "KSlN3yHqYklG",
        "t6dVpIINYklI",
        "ijmpgYnKYklI",
        "-JiQyfWJYklI",
        "EM7whBJCYoAo",
        "fge-S5ZAYoAp",
        "85gYPyotYoAp",
        "RoGjAbkUYoAp",
        "4Of9eVA-YrdM",
        "iky9q4vBYrdO",
        "F6T5p64dYrdO",
        "y-Ehk30pYrdP",
        "bamQiAODYuh1",
        "QHF8YVU7Yuh3",
        "GwzvFGzlYuh3",
        "qYpmQ266Yuh3",
        "OH-pJp9IphqM",
        "bbFf2-_FphqN",
        "_ouA3fa0phqN",
        "Seke61FWphqN",
        "PIIx-8_IphqN",
        "t27r6nlMphqO",
        "r2jJGEOYphqO",
        "b0JNsNcRphqO",
        "BZR9WyysphqO",
        "jj7wYXLtphqO",
        "eZrbJ2SmphqO",
        "rFu4xreNphqO",
        "YJ55k-q6phqO",
        "gCFgpxoyphqP",
        "OVtJsKN_phqQ",
        "lssrdh5qphqQ",
        "U2RJ9gkRphqQ",
        "1M8mcRywphqQ",
        "tgIPom80phqQ",
        "JMzcOPDDphqR",
        "NC_X3p0fY2L0",
        "UV0SzAkaZNRQ",
        "YPEH6qLeZNRQ",
        "yLjJCtPM0KBk",
        "xiyOF9F70UgQ",
        "7wuGOrhz0itI",
        "id1riN9m0vUs",
        "578E2V7j08f6",
        "89xtkJwZ18nB",
        "67NQN5KX2AMe",
        "-oLEiFgy-5Pf",
        "C74aWNz2AliB",
        "2DejudWSA-a0",
        "pEMng2IbBLp7",
        "rMDnDkt2B6du",
        "yiiVWRdJDDil",
        "BhH2vgX9EjGr",
        "qjKvONjwE8ra",
        "P1XJ9OREExlT",
        "VFOzZv6IFROw",
        "TIqpNgepFxVj",
        "VfCC591jGiD4",
        "OB4l2ZhMeS1U",
        "ArJBuiUVfxKd",
        "dJ2tPlVmpsJ0",
        "JWYfwnehpsJ1",
        "-jK_YjpMpsJ2",
        "Fze-IPXLpx6K",
        "7AN1z2sKpx6M",
        "9PIHJqyupx6M",
        "h_CCil-SKHpo",
        "cBFFvTBNJzUa",
        "HvGl1hHyA_VK",
        "gCX9965dhzqZ",
        "gIfDvo9L0UH2"
      ],
      "include_colab_link": true
    },
    "kernelspec": {
      "name": "python3",
      "display_name": "Python 3"
    },
    "language_info": {
      "name": "python"
    }
  },
  "cells": [
    {
      "cell_type": "markdown",
      "metadata": {
        "id": "view-in-github",
        "colab_type": "text"
      },
      "source": [
        "<a href=\"https://colab.research.google.com/github/Aman1647/Cardiovascular-Risk-Prediction/blob/main/Cardiovascular_Risk_Prediction.ipynb\" target=\"_parent\"><img src=\"https://colab.research.google.com/assets/colab-badge.svg\" alt=\"Open In Colab\"/></a>"
      ]
    },
    {
      "cell_type": "markdown",
      "source": [
        "# **Project Name**    - \n",
        "\n"
      ],
      "metadata": {
        "id": "vncDsAP0Gaoa"
      }
    },
    {
      "cell_type": "markdown",
      "source": [
        "##### **Project Type**    - EDA/Regression/Classification/Unsupervised\n",
        "##### **Contribution**    - Individual"
      ],
      "metadata": {
        "id": "beRrZCGUAJYm"
      }
    },
    {
      "cell_type": "markdown",
      "source": [
        "# **The dataset contained information of over 3000 patients with different medical histories.For better interpretability of data ,age group was divided into 3 classes 'young, middle, old age' . Heart rates were classified based on their Hypertension severity into 'Normal, Elevated, Stage_1, Stage_2, Crisis, Isolated systolic , Isolated diastolic' on the basis systolic and diastolic Blood Pressures & Cholestrol levels were classified into 'Normal, Elevated, High risk'.Several features were interlinked to each other based on their usage and measures , which were further understood by visualizing their effect on CHD risk for patients. Null values were removed since we can't and should not make assumptions wrt medical conditions of patients . Some features were heavily influenced by outliers which can affect the model prediction hence they were handled using Inter-quartile Range (IQR) method. Further some categorical features were encoded using label encoding while rest were encoded using One-hot-df method as they contained multiple values , which are better understood when converted into dummies. For checking and handling multicollinearity Variance inflation factor(VIF) method was used to remove correlated independent variables. Since, the data was heavily imbalanced Synthetic Minority Oversampling Technique (SMOTE) was used to generate synthetic samples from the minority class. Before model implementation , dataset was Standardized using StandardScaler method since,the dataset is mostly normally distributed & it mantains information about outliers and makes model less sensitive. 6 models were implemented and some with below-par score underwent hypertuning for better results. Random Forest made the best predictions with an F1-score and test-accuracy of 90 %. Age , Heart rate and were the top features used by the model for data interpretation.**"
      ],
      "metadata": {
        "id": "FJNUwmbgGyua"
      }
    },
    {
      "cell_type": "markdown",
      "source": [
        "Write the summary here within 500-600 words."
      ],
      "metadata": {
        "id": "F6v_1wHtG2nS"
      }
    },
    {
      "cell_type": "markdown",
      "source": [
        "# **GitHub Link -**"
      ],
      "metadata": {
        "id": "w6K7xa23Elo4"
      }
    },
    {
      "cell_type": "markdown",
      "source": [
        "Provide your GitHub Link here."
      ],
      "metadata": {
        "id": "h1o69JH3Eqqn"
      }
    },
    {
      "cell_type": "markdown",
      "source": [
        "# **Problem Statement**\n"
      ],
      "metadata": {
        "id": "yQaldy8SH6Dl"
      }
    },
    {
      "cell_type": "markdown",
      "source": [
        "**\n",
        "The dataset is from an ongoing cardiovascular study on residents of town of Framingham , Massacheutts. The classification goal is to predct whether the patient has a 10-year risk of future coronary heart disease(CHD). The dataset provides the patients information. It includes over 4000 records and has 15 attributes . Each attribute is a potential risk factor. There are both demographic , behavioral and medical risk factors..**"
      ],
      "metadata": {
        "id": "DpeJGUA3kjGy"
      }
    },
    {
      "cell_type": "markdown",
      "source": [
        "# ***Let's Begin !***"
      ],
      "metadata": {
        "id": "O_i_v8NEhb9l"
      }
    },
    {
      "cell_type": "markdown",
      "source": [
        "## ***1. Know Your Data***"
      ],
      "metadata": {
        "id": "HhfV-JJviCcP"
      }
    },
    {
      "cell_type": "code",
      "source": [
        "from google.colab import drive\n",
        "drive.mount('/content/drive')"
      ],
      "metadata": {
        "id": "Z9k_H33XKJfG"
      },
      "execution_count": null,
      "outputs": []
    },
    {
      "cell_type": "markdown",
      "source": [
        "### Import Libraries"
      ],
      "metadata": {
        "id": "Y3lxredqlCYt"
      }
    },
    {
      "cell_type": "code",
      "source": [
        "# Import Libraries\n",
        "import numpy as np\n",
        "import pandas as pd\n",
        "import seaborn as sns\n",
        "import matplotlib.pyplot as plt\n",
        "%matplotlib inline\n",
        "\n",
        "from sklearn.preprocessing import MinMaxScaler,StandardScaler\n",
        "from sklearn.model_selection import train_test_split,GridSearchCV\n",
        "from sklearn.metrics import confusion_matrix, classification_report, roc_curve\n",
        "from sklearn.metrics import make_scorer, recall_score, f1_score, accuracy_score, precision_score, roc_auc_score\n",
        "\n",
        "from sklearn.linear_model import LogisticRegression\n",
        "from sklearn.neighbors import KNeighborsClassifier\n",
        "from sklearn.svm import SVC\n",
        "from sklearn.tree import DecisionTreeClassifier\n",
        "from sklearn.ensemble import RandomForestClassifier\n",
        "from sklearn.naive_bayes import GaussianNB\n",
        "from xgboost import XGBClassifier\n",
        "\n",
        "from scipy.stats import zscore\n",
        "from statsmodels.stats.outliers_influence import variance_inflation_factor\n",
        "from imblearn.over_sampling import SMOTE\n",
        "from imblearn.combine import SMOTETomek\n",
        "from collections import Counter\n",
        "from imblearn.under_sampling import RandomUnderSampler\n",
        "from imblearn.pipeline import Pipeline\n",
        "\n",
        "import warnings\n",
        "warnings.filterwarnings('ignore')"
      ],
      "metadata": {
        "id": "M8Vqi-pPk-HR"
      },
      "execution_count": null,
      "outputs": []
    },
    {
      "cell_type": "markdown",
      "source": [
        "### Dataset Loading"
      ],
      "metadata": {
        "id": "3RnN4peoiCZX"
      }
    },
    {
      "cell_type": "code",
      "source": [
        "# Load Dataset\n",
        "df = pd.read_csv(\"/content/drive/MyDrive/Almabetter/Capstone Projects/Classification/data_cardiovascular_risk.csv\")\n",
        "cvd_df = df.copy()"
      ],
      "metadata": {
        "id": "4CkvbW_SlZ_R"
      },
      "execution_count": null,
      "outputs": []
    },
    {
      "cell_type": "markdown",
      "source": [
        "### Dataset First View"
      ],
      "metadata": {
        "id": "x71ZqKXriCWQ"
      }
    },
    {
      "cell_type": "code",
      "source": [
        "# Dataset First Look\n",
        "cvd_df.head()"
      ],
      "metadata": {
        "id": "LWNFOSvLl09H"
      },
      "execution_count": null,
      "outputs": []
    },
    {
      "cell_type": "markdown",
      "source": [
        "### Dataset Rows & Columns count"
      ],
      "metadata": {
        "id": "7hBIi_osiCS2"
      }
    },
    {
      "cell_type": "code",
      "source": [
        "# Dataset Rows & Columns count\n",
        "print(\"(Rows, columns) : \" + str(cvd_df.shape))"
      ],
      "metadata": {
        "id": "Kllu7SJgmLij"
      },
      "execution_count": null,
      "outputs": []
    },
    {
      "cell_type": "markdown",
      "source": [
        "### Dataset Information"
      ],
      "metadata": {
        "id": "JlHwYmJAmNHm"
      }
    },
    {
      "cell_type": "code",
      "source": [
        "# Dataset Info\n",
        "cvd_df.info()"
      ],
      "metadata": {
        "id": "e9hRXRi6meOf"
      },
      "execution_count": null,
      "outputs": []
    },
    {
      "cell_type": "markdown",
      "source": [
        "#### Duplicate Values"
      ],
      "metadata": {
        "id": "35m5QtbWiB9F"
      }
    },
    {
      "cell_type": "code",
      "source": [
        "# Dataset Duplicate Value Count\n",
        "cvd_df.duplicated().sum()"
      ],
      "metadata": {
        "id": "1sLdpKYkmox0"
      },
      "execution_count": null,
      "outputs": []
    },
    {
      "cell_type": "markdown",
      "source": [
        "#### Missing Values/Null Values"
      ],
      "metadata": {
        "id": "PoPl-ycgm1ru"
      }
    },
    {
      "cell_type": "code",
      "source": [
        "# Missing Values/Null Values Count\n",
        "cvd_df.isnull().sum()"
      ],
      "metadata": {
        "id": "GgHWkxvamxVg"
      },
      "execution_count": null,
      "outputs": []
    },
    {
      "cell_type": "code",
      "source": [
        "# Visualizing the missing values\n",
        "missing_values = cvd_df.isnull()\n",
        "plt.figure(figsize=(12,10))\n",
        "sns.heatmap(missing_values)"
      ],
      "metadata": {
        "id": "3q5wnI3om9sJ"
      },
      "execution_count": null,
      "outputs": []
    },
    {
      "cell_type": "markdown",
      "source": [
        "### What did you know about your dataset?"
      ],
      "metadata": {
        "id": "H0kj-8xxnORC"
      }
    },
    {
      "cell_type": "markdown",
      "source": [
        "The dataset contains over 3390 columns ,some of the columns contains many null values which need to be handled for better interpretability of dataset and better model prediction"
      ],
      "metadata": {
        "id": "gfoNAAC-nUe_"
      }
    },
    {
      "cell_type": "markdown",
      "source": [
        "## ***2. Understanding Your Variables***"
      ],
      "metadata": {
        "id": "nA9Y7ga8ng1Z"
      }
    },
    {
      "cell_type": "code",
      "source": [
        "# Dataset Columns\n",
        "cvd_df.columns"
      ],
      "metadata": {
        "id": "j7xfkqrt5Ag5"
      },
      "execution_count": null,
      "outputs": []
    },
    {
      "cell_type": "code",
      "source": [
        "# Dataset Describe\n",
        "cvd_df.describe(include='all').T"
      ],
      "metadata": {
        "id": "DnOaZdaE5Q5t"
      },
      "execution_count": null,
      "outputs": []
    },
    {
      "cell_type": "markdown",
      "source": [
        "### Variables Description "
      ],
      "metadata": {
        "id": "PBTbrJXOngz2"
      }
    },
    {
      "cell_type": "markdown",
      "source": [
        "From the variables description , it can be seen that the dataset contains information of people aged greater than 32 and mostly is focued on older people in the age group of 45 and above and it is mostly female centric"
      ],
      "metadata": {
        "id": "aJV4KIxSnxay"
      }
    },
    {
      "cell_type": "markdown",
      "source": [
        "### Check Unique Values for each variable."
      ],
      "metadata": {
        "id": "u3PMJOP6ngxN"
      }
    },
    {
      "cell_type": "code",
      "source": [
        "# Check Unique Values for each variable.\n",
        "for col in cvd_df:\n",
        "    print(col ,\":\\n\", cvd_df[col].unique())"
      ],
      "metadata": {
        "id": "zms12Yq5n-jE"
      },
      "execution_count": null,
      "outputs": []
    },
    {
      "cell_type": "markdown",
      "source": [
        "## 3. ***Data Wrangling***"
      ],
      "metadata": {
        "id": "dauF4eBmngu3"
      }
    },
    {
      "cell_type": "markdown",
      "source": [
        "### Data Wrangling Code"
      ],
      "metadata": {
        "id": "bKJF3rekwFvQ"
      }
    },
    {
      "cell_type": "code",
      "source": [
        "# Write your code to make your dataset analysis ready.\n",
        "cvd_df.drop(['id'], axis=1, inplace=True)"
      ],
      "metadata": {
        "id": "wk-9a2fpoLcV"
      },
      "execution_count": null,
      "outputs": []
    },
    {
      "cell_type": "code",
      "source": [
        "cvd_df['TenYearCHD'].value_counts()"
      ],
      "metadata": {
        "id": "Zx7o1cUwLvqx"
      },
      "execution_count": null,
      "outputs": []
    },
    {
      "cell_type": "code",
      "source": [
        "#check target variable value proportion\n",
        "plt.figure(figsize=(10,5))\n",
        "sns.countplot(x = 'TenYearCHD', data = cvd_df)"
      ],
      "metadata": {
        "id": "gMHYycRPLvba"
      },
      "execution_count": null,
      "outputs": []
    },
    {
      "cell_type": "code",
      "source": [
        "cvd_df['TenYearCHD'].value_counts(normalize=True)"
      ],
      "metadata": {
        "id": "CK14VZ7iLvOb"
      },
      "execution_count": null,
      "outputs": []
    },
    {
      "cell_type": "code",
      "source": [
        "#defining age group to dataset\n",
        "\n",
        "def age_range(row):\n",
        "    if row>=29 and row<40:\n",
        "        return 'Young Age'\n",
        "    elif row>=40 and row<55:\n",
        "        return 'Middle Age'\n",
        "    elif row>55:\n",
        "        return 'Elder Age'"
      ],
      "metadata": {
        "id": "MJnTfEa5Lu9S"
      },
      "execution_count": null,
      "outputs": []
    },
    {
      "cell_type": "code",
      "source": [
        "#Applying converted data into our dataset with new column - Age_Range\n",
        "\n",
        "cvd_df['Age_Group']= cvd_df['age'].apply(age_range)\n",
        "cvd_df.head()"
      ],
      "metadata": {
        "id": "bbf2zKwgL9Q7"
      },
      "execution_count": null,
      "outputs": []
    },
    {
      "cell_type": "code",
      "source": [
        "categorical_features = [i for i in cvd_df.columns if cvd_df[i].nunique()<=4]\n",
        "categorical_features"
      ],
      "metadata": {
        "id": "-hRw-mmZMDcx"
      },
      "execution_count": null,
      "outputs": []
    },
    {
      "cell_type": "code",
      "source": [
        "numerical_features = [i for i in cvd_df.columns if i not in categorical_features]\n",
        "numerical_features"
      ],
      "metadata": {
        "id": "yE6apNL6MDT6"
      },
      "execution_count": null,
      "outputs": []
    },
    {
      "cell_type": "code",
      "source": [
        "plt.figure(figsize=(15,15))\n",
        "for n, col in enumerate(numerical_features[1:-1]):\n",
        "  plt.subplot(4,3, n+1)\n",
        "  sns.distplot((cvd_df[col]))\n",
        "  plt.title({col.title()})\n",
        "  plt.tight_layout()"
      ],
      "metadata": {
        "id": "Bsj4f5uhMDKG"
      },
      "execution_count": null,
      "outputs": []
    },
    {
      "cell_type": "code",
      "source": [
        "def heart_rate(sysBP, diaBP):\n",
        "  if sysBP <= 120 and diaBP <=80:\n",
        "    return 'Normal BP'\n",
        "  elif sysBP <= 129 and diaBP <= 80:\n",
        "    return 'Elevated BP'\n",
        "  elif sysBP <= 139 and diaBP <=90:\n",
        "    return 'Stage_1'\n",
        "  elif sysBP <= 179 and diaBP <120:\n",
        "    return 'Stage_2'\n",
        "  elif sysBP >= 180 or diaBP >=120: \n",
        "    return 'Crisis'\n",
        "  elif sysBP >=125 and diaBP >= 90:\n",
        "    return 'Isolated Diastolic'\n",
        "  elif sysBP >= 140 and diaBP < 90:\n",
        "    return 'Isolated Systolic'\n"
      ],
      "metadata": {
        "id": "6AQX0zmPMM9o"
      },
      "execution_count": null,
      "outputs": []
    },
    {
      "cell_type": "code",
      "source": [
        "cvd_df['Hypertension']= cvd_df.apply(lambda  x: heart_rate(x['sysBP'], x['diaBP']), axis=1 )"
      ],
      "metadata": {
        "id": "lykMNwrHMM0Q"
      },
      "execution_count": null,
      "outputs": []
    },
    {
      "cell_type": "code",
      "source": [
        "cvd_df['Hypertension'].value_counts()"
      ],
      "metadata": {
        "id": "D_nCgl-iMMrr"
      },
      "execution_count": null,
      "outputs": []
    },
    {
      "cell_type": "markdown",
      "source": [
        "Diabetes V/s Cholestrol"
      ],
      "metadata": {
        "id": "u8cYtZ8mMYVE"
      }
    },
    {
      "cell_type": "code",
      "source": [
        "def cholestrol_lvl(totChol):\n",
        "  if totChol < 200:\n",
        "    return 'Normal'\n",
        "  elif totChol > 200 and totChol < 240 :\n",
        "    return 'Elevated'\n",
        "  else :\n",
        "    return 'High_Risk'"
      ],
      "metadata": {
        "id": "-K45rFr7Max2"
      },
      "execution_count": null,
      "outputs": []
    },
    {
      "cell_type": "code",
      "source": [
        "cvd_df['Cholestrol'] = cvd_df['totChol'].apply(cholestrol_lvl)"
      ],
      "metadata": {
        "id": "26KlmeNOMant"
      },
      "execution_count": null,
      "outputs": []
    },
    {
      "cell_type": "code",
      "source": [
        "cvd_df.head()"
      ],
      "metadata": {
        "id": "5iRQiQBiMaBZ"
      },
      "execution_count": null,
      "outputs": []
    },
    {
      "cell_type": "markdown",
      "source": [
        "### What all manipulations have you done and insights you found?"
      ],
      "metadata": {
        "id": "MSa1f5Uengrz"
      }
    },
    {
      "cell_type": "markdown",
      "source": [
        "15 % of the population have heart disease. The age column is divided into 3 groups, heart rates are classified based on Hypertension risk and risk of CHD is calculated on the basis of Cholestrol level for better interpretability of data."
      ],
      "metadata": {
        "id": "LbyXE7I1olp8"
      }
    },
    {
      "cell_type": "markdown",
      "source": [
        "## ***4. Data Vizualization, Storytelling & Experimenting with charts : Understand the relationships between variables***"
      ],
      "metadata": {
        "id": "GF8Ens_Soomf"
      }
    },
    {
      "cell_type": "markdown",
      "source": [
        "#### Chart - 1"
      ],
      "metadata": {
        "id": "0wOQAZs5pc--"
      }
    },
    {
      "cell_type": "code",
      "source": [
        "# Chart - 1 visualization code\n",
        "\n",
        "#Swarm Plot Creation of Gender, Age based Heart disease risk \n",
        "\n",
        "plt.figure(figsize=(12,7))\n",
        "sns.swarmplot(x='TenYearCHD', y='age', hue='sex', data=cvd_df, palette='Oranges_r')\n",
        "plt.title('Gender, Age V/s Heart Disease', fontsize=17)\n",
        "plt.xlabel('Heart Disease', fontsize=15)\n",
        "plt.ylabel('Age', fontsize=15)\n",
        "plt.show()"
      ],
      "metadata": {
        "id": "7v_ESjsspbW7"
      },
      "execution_count": null,
      "outputs": []
    },
    {
      "cell_type": "markdown",
      "source": [
        "##### 1. Why did you pick the specific chart?"
      ],
      "metadata": {
        "id": "K5QZ13OEpz2H"
      }
    },
    {
      "cell_type": "markdown",
      "source": [
        "Since ,the age_groups are further sub-divided into Male and Female. Swarmplot describes them in interpretable manner"
      ],
      "metadata": {
        "id": "XESiWehPqBRc"
      }
    },
    {
      "cell_type": "markdown",
      "source": [
        "##### 2. What is/are the insight(s) found from the chart?"
      ],
      "metadata": {
        "id": "lQ7QKXXCp7Bj"
      }
    },
    {
      "cell_type": "markdown",
      "source": [
        "The Elder_Age group has the highest risk of heart disease than the others ,out of it females are at a greater risk than men"
      ],
      "metadata": {
        "id": "C_j1G7yiqdRP"
      }
    },
    {
      "cell_type": "markdown",
      "source": [
        "##### 3. Will the gained insights help creating a positive business impact? \n",
        "Are there any insights that lead to negative growth? Justify with specific reason."
      ],
      "metadata": {
        "id": "448CDAPjqfQr"
      }
    },
    {
      "cell_type": "markdown",
      "source": [
        "Thorough check-up of eldery patients should be done, and focus should be given on female patients predominantly"
      ],
      "metadata": {
        "id": "3cspy4FjqxJW"
      }
    },
    {
      "cell_type": "markdown",
      "source": [
        "#### Chart - 2"
      ],
      "metadata": {
        "id": "KSlN3yHqYklG"
      }
    },
    {
      "cell_type": "code",
      "source": [
        "# Chart - 2 visualization code\n",
        "\n",
        "# Diabetes v/s heart disease\n",
        "plt.figure(figsize = (10,10))\n",
        "sns.countplot(x = cvd_df['diabetes'], hue = cvd_df['TenYearCHD'])\n",
        "plt.title(\"Diabetics V/s Heart Disease\", size =15)\n",
        "plt.xlabel(\"Diabetes\", size =12)\n",
        "plt.ylabel(\"People_Count\", size =12)\n",
        "plt.legend(['No Risk','At Risk'])\n",
        "plt.show()"
      ],
      "metadata": {
        "id": "R4YgtaqtYklH"
      },
      "execution_count": null,
      "outputs": []
    },
    {
      "cell_type": "code",
      "source": [
        "plt.figure(figsize =(10, 8))\n",
        "sns.swarmplot(x='diabetes', y='age', hue='TenYearCHD', data=cvd_df, palette='Oranges_r')\n",
        "plt.title(\"Diabetes V/s CVD Risk wrt Age\", size=15)\n",
        "plt.xlabel(\"Diabetes\", size=12)\n",
        "plt.ylabel(\"Age\", size=12)\n",
        "plt.plot()"
      ],
      "metadata": {
        "id": "lq9X6uQANMPn"
      },
      "execution_count": null,
      "outputs": []
    },
    {
      "cell_type": "markdown",
      "source": [
        "##### 1. Why did you pick the specific chart?"
      ],
      "metadata": {
        "id": "t6dVpIINYklI"
      }
    },
    {
      "cell_type": "markdown",
      "source": [
        "To check the relation between diabetes and heart disease. Count plot gives a detailed insight into the same"
      ],
      "metadata": {
        "id": "5aaW0BYyYklI"
      }
    },
    {
      "cell_type": "markdown",
      "source": [
        "##### 2. What is/are the insight(s) found from the chart?"
      ],
      "metadata": {
        "id": "ijmpgYnKYklI"
      }
    },
    {
      "cell_type": "markdown",
      "source": [
        "Very less no of population have diabetes & it is clear that if a patient is non-diabetic , they surely don't possess a risk of CHD"
      ],
      "metadata": {
        "id": "PSx9atu2YklI"
      }
    },
    {
      "cell_type": "markdown",
      "source": [
        "##### 3. Will the gained insights help creating a positive business impact? \n",
        "Are there any insights that lead to negative growth? Justify with specific reason."
      ],
      "metadata": {
        "id": "-JiQyfWJYklI"
      }
    },
    {
      "cell_type": "markdown",
      "source": [
        "For a diabetic patient , cholestrol levels should be checked for further conclusion"
      ],
      "metadata": {
        "id": "BcBbebzrYklV"
      }
    },
    {
      "cell_type": "markdown",
      "source": [
        "#### Chart - 3"
      ],
      "metadata": {
        "id": "EM7whBJCYoAo"
      }
    },
    {
      "cell_type": "code",
      "source": [
        "# Chart - 3 visualization code\n",
        "\n",
        "# Smokers V/s CVD Risk\n",
        "plt.figure(figsize = (10,8))\n",
        "sns.countplot(x = cvd_df['is_smoking'], hue = cvd_df['TenYearCHD'])\n",
        "plt.title(\"Smokers V/s CVD risk\")\n",
        "plt.show()"
      ],
      "metadata": {
        "id": "t6GMdE67YoAp"
      },
      "execution_count": null,
      "outputs": []
    },
    {
      "cell_type": "code",
      "source": [
        "# Cigerettes per day V/s CVD risk\n",
        "plt.figure(figsize = (10,8))\n",
        "sns.swarmplot(x='TenYearCHD', y='cigsPerDay', hue='is_smoking', data=cvd_df, palette='Oranges_r')\n",
        "plt.title(\"Cigerettes V/s CVD risk\")\n",
        "plt.show()"
      ],
      "metadata": {
        "id": "NPBsYgk6Nitg"
      },
      "execution_count": null,
      "outputs": []
    },
    {
      "cell_type": "markdown",
      "source": [
        "##### 1. Why did you pick the specific chart?"
      ],
      "metadata": {
        "id": "fge-S5ZAYoAp"
      }
    },
    {
      "cell_type": "markdown",
      "source": [
        "To check realtion between smokers and CHD risk ,since both have binary results, countplot describes the values in a better way"
      ],
      "metadata": {
        "id": "5dBItgRVYoAp"
      }
    },
    {
      "cell_type": "markdown",
      "source": [
        "##### 2. What is/are the insight(s) found from the chart?"
      ],
      "metadata": {
        "id": "85gYPyotYoAp"
      }
    },
    {
      "cell_type": "markdown",
      "source": [
        "A very less no. of population are constant smokers . While smokers are definitely at a risk of a heart disease ,a considerable amount of non-smokers also have CHD risk"
      ],
      "metadata": {
        "id": "4jstXR6OYoAp"
      }
    },
    {
      "cell_type": "markdown",
      "source": [
        "##### 3. Will the gained insights help creating a positive business impact? \n",
        "Are there any insights that lead to negative growth? Justify with specific reason."
      ],
      "metadata": {
        "id": "RoGjAbkUYoAp"
      }
    },
    {
      "cell_type": "markdown",
      "source": [
        "Smoking should not be directly linked with a heart disease .Other factors should be checked before final conclusion"
      ],
      "metadata": {
        "id": "zfJ8IqMcYoAp"
      }
    },
    {
      "cell_type": "markdown",
      "source": [
        "#### Chart - 4"
      ],
      "metadata": {
        "id": "4Of9eVA-YrdM"
      }
    },
    {
      "cell_type": "code",
      "source": [
        "# Chart - 4 visualization code\n",
        "\n",
        "plt.figure(figsize = (10,10))\n",
        "sns.countplot(x = cvd_df['BPMeds'], hue = cvd_df['TenYearCHD'])\n",
        "plt.title(\"BP meds V/s CHD\", size=15)\n",
        "plt.xlabel(\"BP meds taken or not\", size=12)\n",
        "plt.show()"
      ],
      "metadata": {
        "id": "irlUoxc8YrdO"
      },
      "execution_count": null,
      "outputs": []
    },
    {
      "cell_type": "code",
      "source": [
        "# Systolic BP V/s CVD risk\n",
        "plt.figure(figsize = (10,8))\n",
        "sns.barplot(x = cvd_df['TenYearCHD'], y = cvd_df['sysBP'])\n",
        "plt.title(\"Systolic BP V/s CHD risk\", size=15)\n",
        "plt.show()"
      ],
      "metadata": {
        "id": "Q1r9yIFWN4wr"
      },
      "execution_count": null,
      "outputs": []
    },
    {
      "cell_type": "code",
      "source": [
        "# Diastolic BP V/s CVD risk\n",
        "plt.figure(figsize = (10,8))\n",
        "sns.barplot(x = cvd_df['TenYearCHD'], y = cvd_df['diaBP'])\n",
        "plt.title(\"Diastolic BP V/s CHD risk\", size=15)\n",
        "plt.show()"
      ],
      "metadata": {
        "id": "r4GES9FAN7tY"
      },
      "execution_count": null,
      "outputs": []
    },
    {
      "cell_type": "code",
      "source": [
        "cvd_df['Hypertension'].value_counts()"
      ],
      "metadata": {
        "id": "invEZg6ZN-qH"
      },
      "execution_count": null,
      "outputs": []
    },
    {
      "cell_type": "markdown",
      "source": [
        "##### 1. Why did you pick the specific chart?"
      ],
      "metadata": {
        "id": "iky9q4vBYrdO"
      }
    },
    {
      "cell_type": "markdown",
      "source": [
        "To check realtion between BP Medicines taken, BP and CVD risk, countplot & barplot describe the values in best way"
      ],
      "metadata": {
        "id": "aJRCwT6DYrdO"
      }
    },
    {
      "cell_type": "markdown",
      "source": [
        "##### 2. What is/are the insight(s) found from the chart?"
      ],
      "metadata": {
        "id": "F6T5p64dYrdO"
      }
    },
    {
      "cell_type": "markdown",
      "source": [
        "No significant relation between BP Medicines taken and Heart disease, ,though patients with systolic BP > 140 & diastolic BP > 90 have extremely high risk of CHD"
      ],
      "metadata": {
        "id": "Xx8WAJvtYrdO"
      }
    },
    {
      "cell_type": "markdown",
      "source": [
        "##### 3. Will the gained insights help creating a positive business impact? \n",
        "Are there any insights that lead to negative growth? Justify with specific reason."
      ],
      "metadata": {
        "id": "y-Ehk30pYrdP"
      }
    },
    {
      "cell_type": "markdown",
      "source": [
        "Dataset contains significant amount of patients needing immediate medical attention, based on their Systolic & Diastolic BP"
      ],
      "metadata": {
        "id": "jLNxxz7MYrdP"
      }
    },
    {
      "cell_type": "markdown",
      "source": [
        "#### Chart - 5"
      ],
      "metadata": {
        "id": "bamQiAODYuh1"
      }
    },
    {
      "cell_type": "code",
      "source": [
        "# Chart - 5 visualization code\n",
        "\n",
        "# Prevalent Hypertension V/s CVD risk\n",
        "plt.figure(figsize = (10,10))\n",
        "sns.countplot(hue = cvd_df['Hypertension'], x = cvd_df['TenYearCHD'])\n",
        "plt.title(\"Blood Pressure levels wrt CHD risk\", size =15)\n",
        "plt.show()"
      ],
      "metadata": {
        "id": "TIJwrbroYuh3"
      },
      "execution_count": null,
      "outputs": []
    },
    {
      "cell_type": "code",
      "source": [
        "fig, axes = plt.subplots(1, 2, figsize=(15, 10))\n",
        "\n",
        "sns.countplot(ax=axes[0], x = cvd_df['prevalentStroke'], hue = cvd_df['TenYearCHD'])\n",
        "axes[0].set_title(\"Prevalent Stroke V/s CHD risk\", size=15)\n",
        "\n",
        "sns.countplot(ax=axes[1], x = cvd_df['prevalentHyp'], hue = cvd_df['TenYearCHD'])\n",
        "axes[1].set_title(\"Prevalent Hypertension V/s CHD risk\", size=15)"
      ],
      "metadata": {
        "id": "J9u2Cv6NOdx_"
      },
      "execution_count": null,
      "outputs": []
    },
    {
      "cell_type": "markdown",
      "source": [
        "##### 1. Why did you pick the specific chart?"
      ],
      "metadata": {
        "id": "QHF8YVU7Yuh3"
      }
    },
    {
      "cell_type": "markdown",
      "source": [
        "To check realtion between Prevalent Hypertension and CVD risk,barplot describe the values in best way"
      ],
      "metadata": {
        "id": "dcxuIMRPYuh3"
      }
    },
    {
      "cell_type": "markdown",
      "source": [
        "##### 2. What is/are the insight(s) found from the chart?"
      ],
      "metadata": {
        "id": "GwzvFGzlYuh3"
      }
    },
    {
      "cell_type": "markdown",
      "source": [
        "While significant number of patients are not at risk of CHD, high Blood Pressure levels are linked with a risk of CHD\n",
        "\n",
        "Prevalent Hypertension --> ( Systolic BP > 140 mm Hg & Diastolic Hypertension > 90 mm Hg\n",
        "People with Prevalent Hypertension have extremely high risk of Heart disease."
      ],
      "metadata": {
        "id": "uyqkiB8YYuh3"
      }
    },
    {
      "cell_type": "markdown",
      "source": [
        "##### 3. Will the gained insights help creating a positive business impact? \n",
        "Are there any insights that lead to negative growth? Justify with specific reason."
      ],
      "metadata": {
        "id": "qYpmQ266Yuh3"
      }
    },
    {
      "cell_type": "markdown",
      "source": [
        "From systolic BP , Diastolic BP, Prevalent Hypertension graph we can conclude that , immediate treatment should be given to people with prevalent hypertension or any symptoms of the same"
      ],
      "metadata": {
        "id": "_WtzZ_hCYuh4"
      }
    },
    {
      "cell_type": "markdown",
      "source": [
        "#### Chart - 6"
      ],
      "metadata": {
        "id": "OH-pJp9IphqM"
      }
    },
    {
      "cell_type": "code",
      "source": [
        "# Chart - 6 visualization code\n",
        "\n",
        "plt.figure(figsize=(12,8))\n",
        "sns.lineplot(x='age', y='totChol', data=cvd_df, color='r')\n",
        "plt.title('Cholestrol VS Age', fontsize=17)\n",
        "plt.xlabel('Age', fontsize=15)\n",
        "plt.ylabel('Cholestrol', fontsize=15)\n",
        "plt.show()"
      ],
      "metadata": {
        "id": "kuRf4wtuphqN"
      },
      "execution_count": null,
      "outputs": []
    },
    {
      "cell_type": "code",
      "source": [
        "# Prevalent Hypertension V/s CVD risk\n",
        "plt.figure(figsize = (10,10))\n",
        "sns.barplot(x = cvd_df['TenYearCHD'], y = cvd_df['totChol'])\n",
        "plt.title(\"Cholestrol V/s CHD risk\", fontsize =15)\n",
        "plt.xlabel(\"Ten Year CHD \", fontsize =15)\n",
        "plt.ylabel(\"Cholestrol level\", fontsize =15)\n",
        "plt.show()"
      ],
      "metadata": {
        "id": "72CIywiJO2xt"
      },
      "execution_count": null,
      "outputs": []
    },
    {
      "cell_type": "code",
      "source": [
        "plt.figure(figsize = (10,10))\n",
        "sns.countplot(x = cvd_df['TenYearCHD'], hue = cvd_df['Cholestrol'])\n",
        "plt.title(\"Cholestrol V/s CHD risk\", fontsize =15)\n",
        "plt.xlabel(\"Ten Year CHD \", fontsize =15)\n",
        "plt.ylabel(\"Cholestrol level\", fontsize =15)\n",
        "plt.show()"
      ],
      "metadata": {
        "id": "V2rHAmuSQhg8"
      },
      "execution_count": null,
      "outputs": []
    },
    {
      "cell_type": "code",
      "source": [
        "cvd_df['Cholestrol'].value_counts()"
      ],
      "metadata": {
        "id": "1m6JO7NmQkqs"
      },
      "execution_count": null,
      "outputs": []
    },
    {
      "cell_type": "markdown",
      "source": [
        "##### 1. Why did you pick the specific chart?"
      ],
      "metadata": {
        "id": "bbFf2-_FphqN"
      }
    },
    {
      "cell_type": "markdown",
      "source": [
        "Line plot and barplot are used to understand relation between Cholestrol level and CHD risk."
      ],
      "metadata": {
        "id": "loh7H2nzphqN"
      }
    },
    {
      "cell_type": "markdown",
      "source": [
        "##### 2. What is/are the insight(s) found from the chart?"
      ],
      "metadata": {
        "id": "_ouA3fa0phqN"
      }
    },
    {
      "cell_type": "markdown",
      "source": [
        "Cholestrol level goes on increasing with the age and ,correspondingly the risk of CHD also increases"
      ],
      "metadata": {
        "id": "VECbqPI7phqN"
      }
    },
    {
      "cell_type": "markdown",
      "source": [
        "##### 3. Will the gained insights help creating a positive business impact? \n",
        "Are there any insights that lead to negative growth? Justify with specific reason."
      ],
      "metadata": {
        "id": "Seke61FWphqN"
      }
    },
    {
      "cell_type": "markdown",
      "source": [
        "People should be advised to bring a change in lifestyle when their cholestrol level is high"
      ],
      "metadata": {
        "id": "DW4_bGpfphqN"
      }
    },
    {
      "cell_type": "markdown",
      "source": [
        "#### Chart - 7"
      ],
      "metadata": {
        "id": "PIIx-8_IphqN"
      }
    },
    {
      "cell_type": "code",
      "source": [
        "# Chart - 7 visualization code\n",
        "\n",
        "plt.figure(figsize=(12,8))\n",
        "sns.barplot(y='BMI', x='TenYearCHD', data=cvd_df)\n",
        "plt.title('BMI VS CHD', fontsize=17)\n",
        "plt.xlabel('CHD', fontsize=15)\n",
        "plt.ylabel('BMI', fontsize=15)\n",
        "plt.show()"
      ],
      "metadata": {
        "id": "lqAIGUfyphqO"
      },
      "execution_count": null,
      "outputs": []
    },
    {
      "cell_type": "markdown",
      "source": [
        "##### 1. Why did you pick the specific chart?"
      ],
      "metadata": {
        "id": "t27r6nlMphqO"
      }
    },
    {
      "cell_type": "markdown",
      "source": [
        "To get a realtionship between BMI and CHD, Since one is binary and other is continuous"
      ],
      "metadata": {
        "id": "iv6ro40sphqO"
      }
    },
    {
      "cell_type": "markdown",
      "source": [
        "##### 2. What is/are the insight(s) found from the chart?"
      ],
      "metadata": {
        "id": "r2jJGEOYphqO"
      }
    },
    {
      "cell_type": "markdown",
      "source": [
        "High level of BMI is associated with increasing risk of CHD"
      ],
      "metadata": {
        "id": "Po6ZPi4hphqO"
      }
    },
    {
      "cell_type": "markdown",
      "source": [
        "##### 3. Will the gained insights help creating a positive business impact? \n",
        "Are there any insights that lead to negative growth? Justify with specific reason."
      ],
      "metadata": {
        "id": "b0JNsNcRphqO"
      }
    },
    {
      "cell_type": "markdown",
      "source": [
        "Patients should be advised to keep their BMI index in check"
      ],
      "metadata": {
        "id": "xvSq8iUTphqO"
      }
    },
    {
      "cell_type": "markdown",
      "source": [
        "#### Chart - 8"
      ],
      "metadata": {
        "id": "BZR9WyysphqO"
      }
    },
    {
      "cell_type": "code",
      "source": [
        "cvd_df.columns"
      ],
      "metadata": {
        "id": "TdPTWpAVphqO"
      },
      "execution_count": null,
      "outputs": []
    },
    {
      "cell_type": "code",
      "source": [
        "# Chart - 8 visualization code\n",
        "\n",
        "plt.figure(figsize=(12,8))\n",
        "sns.boxplot(x='TenYearCHD', y='heartRate', data=cvd_df)\n",
        "plt.title('Heart Rate VS CHD', fontsize=17)\n",
        "plt.xlabel('CHD', fontsize=15)\n",
        "plt.ylabel('Heart Rate', fontsize=15)\n",
        "plt.show()"
      ],
      "metadata": {
        "id": "YmNDGof3RSVJ"
      },
      "execution_count": null,
      "outputs": []
    },
    {
      "cell_type": "markdown",
      "source": [
        "##### 1. Why did you pick the specific chart?"
      ],
      "metadata": {
        "id": "jj7wYXLtphqO"
      }
    },
    {
      "cell_type": "markdown",
      "source": [
        "Boxplot describes the heart-rate range and relation with CHD"
      ],
      "metadata": {
        "id": "Ob8u6rCTphqO"
      }
    },
    {
      "cell_type": "markdown",
      "source": [
        "##### 2. What is/are the insight(s) found from the chart?"
      ],
      "metadata": {
        "id": "eZrbJ2SmphqO"
      }
    },
    {
      "cell_type": "markdown",
      "source": [
        "Though high heart-rate is usually linked with high risk of CHD, the data is influenced by the outliers to get a detailed insight"
      ],
      "metadata": {
        "id": "mZtgC_hjphqO"
      }
    },
    {
      "cell_type": "markdown",
      "source": [
        "##### 3. Will the gained insights help creating a positive business impact? \n",
        "Are there any insights that lead to negative growth? Justify with specific reason."
      ],
      "metadata": {
        "id": "rFu4xreNphqO"
      }
    },
    {
      "cell_type": "markdown",
      "source": [
        "Answer Here"
      ],
      "metadata": {
        "id": "ey_0qi68phqO"
      }
    },
    {
      "cell_type": "markdown",
      "source": [
        "#### Chart - 9"
      ],
      "metadata": {
        "id": "YJ55k-q6phqO"
      }
    },
    {
      "cell_type": "code",
      "source": [
        "# Chart - 9 visualization code\n",
        "\n",
        "plt.figure(figsize=(12,8))\n",
        "sns.boxplot(x='TenYearCHD', y ='glucose', data=cvd_df)\n",
        "plt.title('glucose VS CHD', fontsize=17)\n",
        "plt.xlabel('CHD', fontsize=15)\n",
        "plt.ylabel('glucose', fontsize=15)\n",
        "plt.show()"
      ],
      "metadata": {
        "id": "B2aS4O1ophqO"
      },
      "execution_count": null,
      "outputs": []
    },
    {
      "cell_type": "code",
      "source": [
        "plt.figure(figsize=(12,8))\n",
        "sns.boxplot(x='diabetes', y ='glucose', data=cvd_df)\n",
        "plt.title('Diabetes V/S Glucose', fontsize=17)\n",
        "plt.xlabel('Diabetes', fontsize=15)\n",
        "plt.ylabel('Glucose', fontsize=15)\n",
        "plt.show()"
      ],
      "metadata": {
        "id": "5XwH6PfpRoPf"
      },
      "execution_count": null,
      "outputs": []
    },
    {
      "cell_type": "code",
      "source": [
        "plt.figure(figsize=(10,8))\n",
        "sns.scatterplot(hue='TenYearCHD', y='glucose', x='diabetes', data=cvd_df)\n",
        "plt.title('Diabetes V/S Glucose', fontsize=17)\n",
        "plt.xlabel('Diabetes', fontsize=15)\n",
        "plt.ylabel('Glucose', fontsize=15)\n",
        "plt.show()"
      ],
      "metadata": {
        "id": "kWOGJN3bRtfe"
      },
      "execution_count": null,
      "outputs": []
    },
    {
      "cell_type": "markdown",
      "source": [
        "##### 1. Why did you pick the specific chart?"
      ],
      "metadata": {
        "id": "gCFgpxoyphqP"
      }
    },
    {
      "cell_type": "markdown",
      "source": [
        "Box-plot best describes the relation between th countinuous & binary values, whereas scatter plot sums up the relation between all 3 variables in one plot"
      ],
      "metadata": {
        "id": "TVxDimi2phqP"
      }
    },
    {
      "cell_type": "markdown",
      "source": [
        "##### 2. What is/are the insight(s) found from the chart?"
      ],
      "metadata": {
        "id": "OVtJsKN_phqQ"
      }
    },
    {
      "cell_type": "markdown",
      "source": [
        "The relationship between Glucose and CHD is heavily inifluenced by outliers, but the relation between glucose and diabetes points out that high glucose levels are associated with increased risk of diabetes and high diabetes is linked with a CHD risk"
      ],
      "metadata": {
        "id": "ngGi97qjphqQ"
      }
    },
    {
      "cell_type": "markdown",
      "source": [
        "##### 3. Will the gained insights help creating a positive business impact? \n",
        "Are there any insights that lead to negative growth? Justify with specific reason."
      ],
      "metadata": {
        "id": "lssrdh5qphqQ"
      }
    },
    {
      "cell_type": "markdown",
      "source": [
        "Patients should be advised to keep glucose levels within stipulated limits , and have regular check-ups of diabetes"
      ],
      "metadata": {
        "id": "tBpY5ekJphqQ"
      }
    },
    {
      "cell_type": "markdown",
      "source": [
        "#### Chart - 10"
      ],
      "metadata": {
        "id": "U2RJ9gkRphqQ"
      }
    },
    {
      "cell_type": "code",
      "source": [
        "cvd_df.columns"
      ],
      "metadata": {
        "id": "GM7a4YP4phqQ"
      },
      "execution_count": null,
      "outputs": []
    },
    {
      "cell_type": "code",
      "source": [
        "# Chart - 10 visualization code\n",
        "\n",
        "\n",
        "plt.figure(figsize=(12,10))\n",
        "sns.scatterplot(hue='prevalentHyp', x='diaBP', y='sysBP', data=cvd_df)\n",
        "plt.title('Hypertension relation with Systolic & Diastolic BP', fontsize=17)\n",
        "plt.xlabel('Diastolic BP', fontsize=15)\n",
        "plt.ylabel('Systolic BP', fontsize=15)\n",
        "plt.show()"
      ],
      "metadata": {
        "id": "FmDIs2pUSDN-"
      },
      "execution_count": null,
      "outputs": []
    },
    {
      "cell_type": "markdown",
      "source": [
        "##### 1. Why did you pick the specific chart?"
      ],
      "metadata": {
        "id": "1M8mcRywphqQ"
      }
    },
    {
      "cell_type": "markdown",
      "source": [
        "Scatter pplot gives relationship bbetween Systolic BP, Diastolic BP & Prevalent Hypertension"
      ],
      "metadata": {
        "id": "8agQvks0phqQ"
      }
    },
    {
      "cell_type": "markdown",
      "source": [
        "##### 2. What is/are the insight(s) found from the chart?"
      ],
      "metadata": {
        "id": "tgIPom80phqQ"
      }
    },
    {
      "cell_type": "markdown",
      "source": [
        "High levels of Systolic BP & Diastolic BP are linked with risk of Prevalent Hypertension , which is a clear risk of CHD"
      ],
      "metadata": {
        "id": "Qp13pnNzphqQ"
      }
    },
    {
      "cell_type": "markdown",
      "source": [
        "##### 3. Will the gained insights help creating a positive business impact? \n",
        "Are there any insights that lead to negative growth? Justify with specific reason."
      ],
      "metadata": {
        "id": "JMzcOPDDphqR"
      }
    },
    {
      "cell_type": "markdown",
      "source": [
        "Same treatment/medication as for High BP"
      ],
      "metadata": {
        "id": "R4Ka1PC2phqR"
      }
    },
    {
      "cell_type": "markdown",
      "source": [
        "#### Chart - 11 - Correlation Heatmap"
      ],
      "metadata": {
        "id": "NC_X3p0fY2L0"
      }
    },
    {
      "cell_type": "code",
      "source": [
        "# Correlation Heatmap visualization code\n",
        "\n",
        "plt.figure(figsize = (15,12))\n",
        "correlation = cvd_df.corr()\n",
        "sns.heatmap(abs(correlation), annot=True, cmap = 'flare')"
      ],
      "metadata": {
        "id": "xyC9zolEZNRQ"
      },
      "execution_count": null,
      "outputs": []
    },
    {
      "cell_type": "markdown",
      "source": [
        "##### 1. Why did you pick the specific chart?"
      ],
      "metadata": {
        "id": "UV0SzAkaZNRQ"
      }
    },
    {
      "cell_type": "markdown",
      "source": [
        "Heatmap determines correlation between all variables"
      ],
      "metadata": {
        "id": "DVPuT8LYZNRQ"
      }
    },
    {
      "cell_type": "markdown",
      "source": [
        "##### 2. What is/are the insight(s) found from the chart?"
      ],
      "metadata": {
        "id": "YPEH6qLeZNRQ"
      }
    },
    {
      "cell_type": "markdown",
      "source": [
        "Some features are highly correlated , due to same measures, usage and their link with CHD risk"
      ],
      "metadata": {
        "id": "bfSqtnDqZNRR"
      }
    },
    {
      "cell_type": "markdown",
      "source": [
        "## ***5 Feature Engineering & Data Pre-processing***"
      ],
      "metadata": {
        "id": "yLjJCtPM0KBk"
      }
    },
    {
      "cell_type": "markdown",
      "source": [
        "### 1. Handling Missing Values"
      ],
      "metadata": {
        "id": "xiyOF9F70UgQ"
      }
    },
    {
      "cell_type": "code",
      "source": [
        "# Handling Missing Values & Missing Value Imputation\n",
        "# drop null values\n",
        "cvd_df.dropna(inplace =True)"
      ],
      "metadata": {
        "id": "iRsAHk1K0fpS"
      },
      "execution_count": null,
      "outputs": []
    },
    {
      "cell_type": "code",
      "source": [
        "missing_val = cvd_df.isnull()\n",
        "plt.figure(figsize = (12, 10))\n",
        "sns.heatmap(missing_val)"
      ],
      "metadata": {
        "id": "yANhTJR-TKjB"
      },
      "execution_count": null,
      "outputs": []
    },
    {
      "cell_type": "markdown",
      "source": [
        "#### What all missing value imputation techniques have you used and why did you use those techniques?"
      ],
      "metadata": {
        "id": "7wuGOrhz0itI"
      }
    },
    {
      "cell_type": "markdown",
      "source": [
        "All the null values are dropped"
      ],
      "metadata": {
        "id": "1ixusLtI0pqI"
      }
    },
    {
      "cell_type": "markdown",
      "source": [
        "### 2. Handling Outliers"
      ],
      "metadata": {
        "id": "id1riN9m0vUs"
      }
    },
    {
      "cell_type": "code",
      "source": [
        "# Lets check the discrete and continuous features\n",
        "categorical_features = [i for i in cvd_df.columns if cvd_df[i].nunique()<=4]\n",
        "numeric_features = [i for i in cvd_df.columns if i not in categorical_features]\n",
        "\n",
        "print(categorical_features)\n",
        "print(numeric_features)"
      ],
      "metadata": {
        "id": "M6w2CzZf04JK"
      },
      "execution_count": null,
      "outputs": []
    },
    {
      "cell_type": "code",
      "source": [
        "plt.figure(figsize=(18,12))\n",
        "for n,column in enumerate(numerical_features):\n",
        "  plt.subplot(5, 4, n+1)\n",
        "  sns.boxplot(cvd_df[column])\n",
        "  plt.title(f'{column.title()}',weight='bold')\n",
        "  plt.tight_layout()"
      ],
      "metadata": {
        "id": "2fDUmJY2Tbe4"
      },
      "execution_count": null,
      "outputs": []
    },
    {
      "cell_type": "code",
      "source": [
        "for col in numerical_features:\n",
        "  # Using IQR method to define the range of inliners:\n",
        "  q1, q3, median = cvd_df[col].quantile([0.25,0.75,0.5])\n",
        "  lower_limit = q1 - 1.5*(q3-q1)\n",
        "  upper_limit = q3 + 1.5*(q3-q1)\n",
        "\n",
        "  # Replacing Outliers with median value\n",
        "  cvd_df[col] = np.where(cvd_df[col] > upper_limit, median,np.where(\n",
        "                         cvd_df[col] < lower_limit,median,cvd_df[col]))"
      ],
      "metadata": {
        "id": "sTcB3adaTe77"
      },
      "execution_count": null,
      "outputs": []
    },
    {
      "cell_type": "code",
      "source": [
        "plt.figure(figsize=(18,12))\n",
        "for n,column in enumerate(numerical_features):\n",
        "  plt.subplot(5, 4, n+1)\n",
        "  sns.boxplot(cvd_df[column])\n",
        "  plt.title(f'{column.title()}',weight='bold')\n",
        "  plt.tight_layout()"
      ],
      "metadata": {
        "id": "fI2R5BwkTewg"
      },
      "execution_count": null,
      "outputs": []
    },
    {
      "cell_type": "markdown",
      "source": [
        "##### What all outlier treatment techniques have you used and why did you use those techniques?"
      ],
      "metadata": {
        "id": "578E2V7j08f6"
      }
    },
    {
      "cell_type": "markdown",
      "source": [
        "Inter-quartile range (IQR) method was used for treatment of outliers. Since,it shows how the data is distribubted around the median"
      ],
      "metadata": {
        "id": "uGZz5OrT1HH-"
      }
    },
    {
      "cell_type": "markdown",
      "source": [
        "### 3. Categorical Encoding"
      ],
      "metadata": {
        "id": "89xtkJwZ18nB"
      }
    },
    {
      "cell_type": "code",
      "source": [
        "# Encode your categorical columns\n",
        "categorical_features"
      ],
      "metadata": {
        "id": "21JmIYMG2hEo"
      },
      "execution_count": null,
      "outputs": []
    },
    {
      "cell_type": "code",
      "source": [
        "for col in ['sex', 'is_smoking']:\n",
        "  print(cvd_df[col].value_counts(),'\\n')"
      ],
      "metadata": {
        "id": "6kYdPRmCTuG_"
      },
      "execution_count": null,
      "outputs": []
    },
    {
      "cell_type": "code",
      "source": [
        "encoder = {'sex':{'M':1, 'F':0},\n",
        "           'is_smoking':{'YES':1, 'NO': 0},\n",
        "           }\n",
        "\n",
        "# Label Encoding\n",
        "cvd_df = cvd_df.replace(encoder)"
      ],
      "metadata": {
        "id": "xcLGG3uDTxSc"
      },
      "execution_count": null,
      "outputs": []
    },
    {
      "cell_type": "code",
      "source": [
        "cvd_df.head()"
      ],
      "metadata": {
        "id": "nIAjo6wbTz4X"
      },
      "execution_count": null,
      "outputs": []
    },
    {
      "cell_type": "markdown",
      "source": [
        "#### What all categorical encoding techniques have you used & why did you use those techniques?"
      ],
      "metadata": {
        "id": "67NQN5KX2AMe"
      }
    },
    {
      "cell_type": "markdown",
      "source": [
        "Label Encoding to convert variables with double categorical values into binary format"
      ],
      "metadata": {
        "id": "UDaue5h32n_G"
      }
    },
    {
      "cell_type": "markdown",
      "source": [
        "### 4. Feature Manipulation & Selection"
      ],
      "metadata": {
        "id": "-oLEiFgy-5Pf"
      }
    },
    {
      "cell_type": "markdown",
      "source": [
        "#### 1. Feature Manipulation"
      ],
      "metadata": {
        "id": "C74aWNz2AliB"
      }
    },
    {
      "cell_type": "code",
      "source": [
        "# Manipulate Features to minimize feature correlation and create new features\n",
        "\n",
        "from statsmodels.stats.outliers_influence import variance_inflation_factor\n",
        "def calc_vif(X):\n",
        " \n",
        "   # Calculating VIF\n",
        "   vif = pd.DataFrame()\n",
        "   vif[\"variables\"] = X.columns\n",
        "   vif[\"VIF\"] = [variance_inflation_factor(X.values, i) for i in range(X.shape[1])]\n",
        "\n",
        "   #return(vif.sort_values(by='VIF',ascending=False).reset_index(drop=True))\n",
        " \n",
        "   return vif"
      ],
      "metadata": {
        "id": "h1qC4yhBApWC"
      },
      "execution_count": null,
      "outputs": []
    },
    {
      "cell_type": "code",
      "source": [
        "calc_vif(cvd_df[[i for i in cvd_df.describe().columns if i not in ['TenYearCHD']]])"
      ],
      "metadata": {
        "id": "9AIPK_PWUHtq"
      },
      "execution_count": null,
      "outputs": []
    },
    {
      "cell_type": "code",
      "source": [
        "calc_vif(cvd_df[[i for i in cvd_df.describe().columns if i not in ['TenYearCHD','glucose', 'sysBP', 'diaBP', 'education', 'id', 'BMI', 'totChol', 'heartRate']]])"
      ],
      "metadata": {
        "id": "rHcP0p_oUNMc"
      },
      "execution_count": null,
      "outputs": []
    },
    {
      "cell_type": "code",
      "source": [
        "plt.figure(figsize = (15,12))\n",
        "correlation = cvd_df.corr()\n",
        "sns.heatmap(abs(correlation), annot=True, cmap = 'flare')"
      ],
      "metadata": {
        "id": "PGem0fQjUQQo"
      },
      "execution_count": null,
      "outputs": []
    },
    {
      "cell_type": "markdown",
      "source": [
        "#### 2. Feature Selection"
      ],
      "metadata": {
        "id": "2DejudWSA-a0"
      }
    },
    {
      "cell_type": "code",
      "source": [
        "cvd_df.columns"
      ],
      "metadata": {
        "id": "YLhe8UmaBCEE"
      },
      "execution_count": null,
      "outputs": []
    },
    {
      "cell_type": "code",
      "source": [
        "pair_df = [cvd_df[['age','sex', 'heartRate','prevalentStroke','is_smoking', 'cigsPerDay', 'BPMeds',]],\n",
        "           pd.get_dummies(cvd_df[['Age_Group', 'Hypertension','Cholestrol']], drop_first=False), \n",
        "           cvd_df['TenYearCHD']\n",
        "           ]\n",
        "one_hot_df = pd.concat(pair_df, axis=1)\n",
        "one_hot_df.head()"
      ],
      "metadata": {
        "id": "ib5W3HoLUWvX"
      },
      "execution_count": null,
      "outputs": []
    },
    {
      "cell_type": "code",
      "source": [
        "# Select your features wisely to avoid overfitting\n",
        "\n",
        "one_hot_df.columns"
      ],
      "metadata": {
        "id": "0bIx9taYUakc"
      },
      "execution_count": null,
      "outputs": []
    },
    {
      "cell_type": "code",
      "source": [
        "features = [i for i in one_hot_df.columns if i not in ['TenYearCHD']]"
      ],
      "metadata": {
        "id": "FgNDAg6CUabZ"
      },
      "execution_count": null,
      "outputs": []
    },
    {
      "cell_type": "code",
      "source": [
        "features"
      ],
      "metadata": {
        "id": "953FXv-dUaOG"
      },
      "execution_count": null,
      "outputs": []
    },
    {
      "cell_type": "code",
      "source": [
        "X = one_hot_df[features]\n",
        "y = one_hot_df['TenYearCHD']"
      ],
      "metadata": {
        "id": "x7-0lg9xUh0c"
      },
      "execution_count": null,
      "outputs": []
    },
    {
      "cell_type": "markdown",
      "source": [
        "##### What all feature selection methods have you used  and why?"
      ],
      "metadata": {
        "id": "pEMng2IbBLp7"
      }
    },
    {
      "cell_type": "markdown",
      "source": [
        "One-hot-df method is used for feature selection , since some of the categorical features were to be encoded in binary format\n"
      ],
      "metadata": {
        "id": "rb2Lh6Z8BgGs"
      }
    },
    {
      "cell_type": "markdown",
      "source": [
        "### 6. Data Scaling"
      ],
      "metadata": {
        "id": "rMDnDkt2B6du"
      }
    },
    {
      "cell_type": "code",
      "source": [
        "# Feature Scaling \n",
        "scaler = StandardScaler()\n",
        "scaler.fit(X_train)\n",
        "scaled_features = scaler.transform(X_train)"
      ],
      "metadata": {
        "id": "dL9LWpySC6x_"
      },
      "execution_count": null,
      "outputs": []
    },
    {
      "cell_type": "markdown",
      "source": [
        "##### Which method have you used to scale you data and why?"
      ],
      "metadata": {
        "id": "yiiVWRdJDDil"
      }
    },
    {
      "cell_type": "markdown",
      "source": [
        "Standard Scaler method is used , our data is mostly normally distributed and Standardization mantains useful information about outliers and makes the algorithm less sensitive to them."
      ],
      "metadata": {
        "id": "WfeBbFrvVIBG"
      }
    },
    {
      "cell_type": "markdown",
      "source": [
        "### 8. Data Splitting"
      ],
      "metadata": {
        "id": "BhH2vgX9EjGr"
      }
    },
    {
      "cell_type": "code",
      "source": [
        "# Split your data to train and test. Choose Splitting ratio wisely.\n",
        "\n",
        "X_train, X_test, y_train, y_test = train_test_split(X_smote, y_smote, test_size = 0.3, random_state=0)"
      ],
      "metadata": {
        "id": "0CTyd2UwEyNM"
      },
      "execution_count": null,
      "outputs": []
    },
    {
      "cell_type": "markdown",
      "source": [
        "##### What data splitting ratio have you used and why? "
      ],
      "metadata": {
        "id": "qjKvONjwE8ra"
      }
    },
    {
      "cell_type": "markdown",
      "source": [
        "Splitting ratio of 70-30 was used , since data was focused on medical condition of the patients . Hence, more focus should be given on training the data well*"
      ],
      "metadata": {
        "id": "Y2lJ8cobFDb_"
      }
    },
    {
      "cell_type": "markdown",
      "source": [
        "### 9. Handling Imbalanced Dataset"
      ],
      "metadata": {
        "id": "P1XJ9OREExlT"
      }
    },
    {
      "cell_type": "markdown",
      "source": [
        "##### Do you think the dataset is imbalanced? Explain Why."
      ],
      "metadata": {
        "id": "VFOzZv6IFROw"
      }
    },
    {
      "cell_type": "markdown",
      "source": [
        "Class 0 contained 2398 values , whereas Class 1 contained only 430 values. This is due to the fact that, not many people suffer form a risk of CHD. Hence, the data is imbalanced"
      ],
      "metadata": {
        "id": "GeKDIv7pFgcC"
      }
    },
    {
      "cell_type": "code",
      "source": [
        "# the numbers before SMOTE\n",
        "num_before = dict(Counter(y))\n",
        "\n",
        "#perform SMOTE\n",
        "\n",
        "# define pipeline\n",
        "under = RandomUnderSampler()\n",
        "over = SMOTE()\n",
        "steps = [('o', over), ('u', under)]\n",
        "pipeline = Pipeline(steps=steps)\n",
        "\n",
        "# transform the dataset\n",
        "X_smote, y_smote = pipeline.fit_resample(X, y)\n",
        "\n",
        "\n",
        "#the numbers after SMOTE\n",
        "num_after =dict(Counter(y_smote))\n",
        "print(num_before, num_after)"
      ],
      "metadata": {
        "id": "nQsRhhZLFiDs"
      },
      "execution_count": null,
      "outputs": []
    },
    {
      "cell_type": "markdown",
      "source": [
        "##### What technique did you use to handle the imbalance dataset and why? (If needed to be balanced)"
      ],
      "metadata": {
        "id": "TIqpNgepFxVj"
      }
    },
    {
      "cell_type": "markdown",
      "source": [
        "Class 0 contained 2398 values , whereas Class 1 contained only 430 values. This is due to the fact that, not many people suffer form a risk of CHD. Hence, the data is imbalanced"
      ],
      "metadata": {
        "id": "qbet1HwdGDTz"
      }
    },
    {
      "cell_type": "markdown",
      "source": [
        "## ***6. ML Model Implementation***"
      ],
      "metadata": {
        "id": "VfCC591jGiD4"
      }
    },
    {
      "cell_type": "markdown",
      "source": [
        "### ML Model - 1"
      ],
      "metadata": {
        "id": "OB4l2ZhMeS1U"
      }
    },
    {
      "cell_type": "code",
      "source": [
        "lr = LogisticRegression(fit_intercept=True, max_iter=10000)\n",
        "lr.fit(X_train, y_train)"
      ],
      "metadata": {
        "id": "7ebyywQieS1U"
      },
      "execution_count": null,
      "outputs": []
    },
    {
      "cell_type": "code",
      "source": [
        "print(\"Training set score: {:.2f}\".format(lr.score(X_train, y_train)))\n",
        "print(\"Test set score: {:.2f}\".format(lr.score(X_test, y_test)))"
      ],
      "metadata": {
        "id": "oMVAxo4IVzXs"
      },
      "execution_count": null,
      "outputs": []
    },
    {
      "cell_type": "code",
      "source": [
        "y_train_pred = lr.predict(X_train)"
      ],
      "metadata": {
        "id": "0zKNHnS4V1wy"
      },
      "execution_count": null,
      "outputs": []
    },
    {
      "cell_type": "code",
      "source": [
        "y_pred_lr = lr.predict(X_test)"
      ],
      "metadata": {
        "id": "2MmZksAHV4C9"
      },
      "execution_count": null,
      "outputs": []
    },
    {
      "cell_type": "markdown",
      "source": [
        "#### 1. Explain the ML Model used and it's performance using Evaluation metric Score Chart."
      ],
      "metadata": {
        "id": "ArJBuiUVfxKd"
      }
    },
    {
      "cell_type": "code",
      "source": [
        "print(classification_report(y_test, y_pred_lr))"
      ],
      "metadata": {
        "id": "rqD5ZohzfxKe"
      },
      "execution_count": null,
      "outputs": []
    },
    {
      "cell_type": "code",
      "source": [
        "print(roc_auc_score(y_test, y_pred_lr))"
      ],
      "metadata": {
        "id": "T0Pu2FPRV_uZ"
      },
      "execution_count": null,
      "outputs": []
    },
    {
      "cell_type": "code",
      "source": [
        "labels = ['No CHD', 'CHD']\n",
        "cm = confusion_matrix(y_train, y_train_pred)\n",
        "print(cm)\n",
        "\n",
        "ax= plt.subplot()\n",
        "sns.heatmap(cm, annot=True, ax = ax) #annot=True to annotate cells\n",
        "\n",
        "# labels, title and ticks\n",
        "ax.set_xlabel('Predicted labels')\n",
        "ax.set_ylabel('True labels')\n",
        "ax.set_title('Confusion Matrix')\n",
        "ax.xaxis.set_ticklabels(labels)\n",
        "ax.yaxis.set_ticklabels(labels)"
      ],
      "metadata": {
        "id": "d-N83wSmWELW"
      },
      "execution_count": null,
      "outputs": []
    },
    {
      "cell_type": "code",
      "source": [
        "labels = ['No CHD', 'CHD']\n",
        "cm = confusion_matrix(y_test, y_pred_lr)\n",
        "print(cm)\n",
        "\n",
        "ax= plt.subplot()\n",
        "sns.heatmap(cm, annot=True, ax = ax) #annot=True to annotate cells\n",
        "\n",
        "# labels, title and ticks\n",
        "ax.set_xlabel('Predicted labels')\n",
        "ax.set_ylabel('True labels')\n",
        "ax.set_title('Confusion Matrix')\n",
        "ax.xaxis.set_ticklabels(labels)\n",
        "ax.yaxis.set_ticklabels(labels)"
      ],
      "metadata": {
        "id": "4NNMCLlUWHGK"
      },
      "execution_count": null,
      "outputs": []
    },
    {
      "cell_type": "code",
      "source": [
        "# Importing all necessary libraries\n",
        "from sklearn.metrics import roc_curve, auc\n",
        "\n",
        "class_probabilities = lr.predict_proba(X_test)\n",
        "preds = class_probabilities[:, 1]\n",
        "\n",
        "fpr, tpr, threshold = roc_curve(y_test, preds)\n",
        "roc_auc = auc(fpr, tpr)\n",
        "\n",
        "# Printing AUC\n",
        "print(f\"AUC for our classifier is: {roc_auc}\")\n",
        "\n",
        "# Plotting the ROC\n",
        "plt.title('Receiver Operating Characteristic')\n",
        "plt.plot(fpr, tpr, label = 'AUC = %0.2f' % roc_auc)\n",
        "plt.legend(loc = 'lower right')\n",
        "plt.plot([0, 1], [0, 1], 'k--')\n",
        "plt.xlim([0, 1])\n",
        "plt.ylim([0, 1])\n",
        "plt.ylabel('True Positive Rate')\n",
        "plt.xlabel('False Positive Rate')\n",
        "plt.show()"
      ],
      "metadata": {
        "id": "vFsqqt_YWKqI"
      },
      "execution_count": null,
      "outputs": []
    },
    {
      "cell_type": "code",
      "source": [
        "# Model Performance \n",
        "lr_accuracy = accuracy_score(y_pred_lr, y_test)\n",
        "lr_precision = precision_score(y_pred_lr ,y_test, average ='weighted')\n",
        "lr_recall = recall_score(y_pred_lr, y_test, average ='weighted')\n",
        "lr_f1_score = f1_score(y_pred_lr,y_test,average ='weighted')\n",
        "print(' Accuracy:',lr_accuracy,'\\n','Predicion :' ,lr_precision, '\\n', 'Recall :',lr_recall, '\\n', 'F1_score :', lr_f1_score)"
      ],
      "metadata": {
        "id": "4MAXdRb-WNls"
      },
      "execution_count": null,
      "outputs": []
    },
    {
      "cell_type": "markdown",
      "source": [
        "### ML Model - 2:Naive Bayes Classification"
      ],
      "metadata": {
        "id": "dJ2tPlVmpsJ0"
      }
    },
    {
      "cell_type": "code",
      "source": [
        "nbc = GaussianNB()\n",
        "nbc.fit(X_train, y_train)"
      ],
      "metadata": {
        "id": "sYvw-KvMW4xC"
      },
      "execution_count": null,
      "outputs": []
    },
    {
      "cell_type": "code",
      "source": [
        "print(\"Training set score: {:.2f}\".format(nbc.score(X_train, y_train)))\n",
        "print(\"Test set score: {:.2f}\".format(nbc.score(X_test, y_test)))"
      ],
      "metadata": {
        "id": "IFXXcmo6W7kt"
      },
      "execution_count": null,
      "outputs": []
    },
    {
      "cell_type": "code",
      "source": [
        "pred_train_nbc = nbc.predict(X_train)"
      ],
      "metadata": {
        "id": "Mu3Eo9aHW7cD"
      },
      "execution_count": null,
      "outputs": []
    },
    {
      "cell_type": "code",
      "source": [
        "y_pred_nbc = nbc.predict(X_test)"
      ],
      "metadata": {
        "id": "_Gzdw-O2W7XI"
      },
      "execution_count": null,
      "outputs": []
    },
    {
      "cell_type": "markdown",
      "source": [
        "#### 1. Explain the ML Model used and it's performance using Evaluation metric Score Chart."
      ],
      "metadata": {
        "id": "JWYfwnehpsJ1"
      }
    },
    {
      "cell_type": "code",
      "source": [
        "print(classification_report(y_test, y_pred_nbc))"
      ],
      "metadata": {
        "id": "yEl-hgQWpsJ1"
      },
      "execution_count": null,
      "outputs": []
    },
    {
      "cell_type": "code",
      "source": [
        "labels = ['No CHD', 'CHD']\n",
        "cm = confusion_matrix(y_train, pred_train_nbc)\n",
        "print(cm)\n",
        "\n",
        "ax= plt.subplot()\n",
        "sns.heatmap(cm, annot=True, ax = ax) #annot=True to annotate cells\n",
        "\n",
        "# labels, title and ticks\n",
        "ax.set_xlabel('Predicted labels')\n",
        "ax.set_ylabel('True labels')\n",
        "ax.set_title('Confusion Matrix')\n",
        "ax.xaxis.set_ticklabels(labels)\n",
        "ax.yaxis.set_ticklabels(labels)"
      ],
      "metadata": {
        "id": "B8nzaXSGXOIt"
      },
      "execution_count": null,
      "outputs": []
    },
    {
      "cell_type": "code",
      "source": [
        "labels = ['No CHD', 'CHD']\n",
        "cm = confusion_matrix(y_test, y_pred_nbc)\n",
        "print(cm)\n",
        "\n",
        "ax= plt.subplot()\n",
        "sns.heatmap(cm, annot=True, ax = ax) #annot=True to annotate cells\n",
        "\n",
        "# labels, title and ticks\n",
        "ax.set_xlabel('Predicted labels')\n",
        "ax.set_ylabel('True labels')\n",
        "ax.set_title('Confusion Matrix')\n",
        "ax.xaxis.set_ticklabels(labels)\n",
        "ax.yaxis.set_ticklabels(labels)"
      ],
      "metadata": {
        "id": "ZlsVzsuZXRCF"
      },
      "execution_count": null,
      "outputs": []
    },
    {
      "cell_type": "code",
      "source": [
        "# Importing all necessary libraries\n",
        "from sklearn.metrics import roc_curve, auc\n",
        "\n",
        "class_probabilities = nbc.predict_proba(X_test)\n",
        "preds = class_probabilities[:, 1]\n",
        "\n",
        "fpr, tpr, threshold = roc_curve(y_test, preds)\n",
        "roc_auc = auc(fpr, tpr)\n",
        "\n",
        "# Printing AUC\n",
        "print(f\"AUC for our classifier is: {roc_auc}\")\n",
        "\n",
        "# Plotting the ROC\n",
        "plt.title('Receiver Operating Characteristic')\n",
        "plt.plot(fpr, tpr, label = 'AUC = %0.2f' % roc_auc)\n",
        "plt.legend(loc = 'lower right')\n",
        "plt.plot([0, 1], [0, 1], 'k--')\n",
        "plt.xlim([0, 1])\n",
        "plt.ylim([0, 1])\n",
        "plt.ylabel('True Positive Rate')\n",
        "plt.xlabel('False Positive Rate')\n",
        "plt.show()"
      ],
      "metadata": {
        "id": "U7ViWoPhXUc5"
      },
      "execution_count": null,
      "outputs": []
    },
    {
      "cell_type": "markdown",
      "source": [
        "#### 2. Cross- Validation & Hyperparameter Tuning"
      ],
      "metadata": {
        "id": "-jK_YjpMpsJ2"
      }
    },
    {
      "cell_type": "code",
      "source": [
        "param_grid_nb = {                                                                # var_smoothing --> smothen the curve to account for more samples whihc are further away from mean\n",
        "    'var_smoothing': np.logspace(0,-9, num=100)                                  # returns numbers spaced evenly on a log scale , starts from 0, ends at -9, generates 100 samples \n",
        "}"
      ],
      "metadata": {
        "id": "Dn0EOfS6psJ2"
      },
      "execution_count": null,
      "outputs": []
    },
    {
      "cell_type": "code",
      "source": [
        "from sklearn.naive_bayes import GaussianNB\n",
        "from sklearn.model_selection import GridSearchCV\n",
        "nb_grid = GridSearchCV(estimator= nbc, \n",
        "                       param_grid=param_grid_nb, \n",
        "                       verbose=1, \n",
        "                       cv=10, \n",
        "                       n_jobs=-1,\n",
        "                       scoring = 'f1_micro')\n",
        "nb_grid.fit(X_train, y_train)\n",
        "print(nb_grid.best_estimator_)"
      ],
      "metadata": {
        "id": "oL-4_q19XcVC"
      },
      "execution_count": null,
      "outputs": []
    },
    {
      "cell_type": "code",
      "source": [
        "print(\"Training set score: {:.2f}\".format(nb_grid.score(X_train, y_train)))\n",
        "print(\"Test set score: {:.2f}\".format(nb_grid.score(X_test, y_test)))"
      ],
      "metadata": {
        "id": "3CB4yzgCXfA4"
      },
      "execution_count": null,
      "outputs": []
    },
    {
      "cell_type": "code",
      "source": [
        "pred_train_nbc = nb_grid.predict(X_train)"
      ],
      "metadata": {
        "id": "eFJRtEkvXh2H"
      },
      "execution_count": null,
      "outputs": []
    },
    {
      "cell_type": "code",
      "source": [
        "y_pred_gnbc= nb_grid.predict(X_test)"
      ],
      "metadata": {
        "id": "qd8NTiE-XkpC"
      },
      "execution_count": null,
      "outputs": []
    },
    {
      "cell_type": "code",
      "source": [
        "print(classification_report(y_test, y_pred_gnbc))"
      ],
      "metadata": {
        "id": "kZMuUV-rXolU"
      },
      "execution_count": null,
      "outputs": []
    },
    {
      "cell_type": "code",
      "source": [
        "labels = ['No CHD', 'CHD']\n",
        "cm = confusion_matrix(y_train, pred_train_nbc)\n",
        "print(cm)\n",
        "\n",
        "ax= plt.subplot()\n",
        "sns.heatmap(cm, annot=True, ax = ax) #annot=True to annotate cells\n",
        "\n",
        "# labels, title and ticks\n",
        "ax.set_xlabel('Predicted labels')\n",
        "ax.set_ylabel('True labels')\n",
        "ax.set_title('Confusion Matrix')\n",
        "ax.xaxis.set_ticklabels(labels)\n",
        "ax.yaxis.set_ticklabels(labels)"
      ],
      "metadata": {
        "id": "tPbXWhxWXogj"
      },
      "execution_count": null,
      "outputs": []
    },
    {
      "cell_type": "code",
      "source": [
        "labels = ['No CHD', 'CHD']\n",
        "cm = confusion_matrix(y_test, y_pred_gnbc)\n",
        "print(cm)\n",
        "\n",
        "ax= plt.subplot()\n",
        "sns.heatmap(cm, annot=True, ax = ax) #annot=True to annotate cells\n",
        "\n",
        "# labels, title and ticks\n",
        "ax.set_xlabel('Predicted labels')\n",
        "ax.set_ylabel('True labels')\n",
        "ax.set_title('Confusion Matrix')\n",
        "ax.xaxis.set_ticklabels(labels)\n",
        "ax.yaxis.set_ticklabels(labels)"
      ],
      "metadata": {
        "id": "WfEf9BX6XwQI"
      },
      "execution_count": null,
      "outputs": []
    },
    {
      "cell_type": "code",
      "source": [
        "# Precision , Recall , F1 score for the model\n",
        "nb_accuracy = accuracy_score(y_pred_gnbc, y_test)\n",
        "nb_precision = precision_score(y_pred_gnbc ,y_test, average ='weighted')\n",
        "nb_recall = recall_score(y_pred_gnbc, y_test, average ='weighted')\n",
        "nb_f1_score = f1_score(y_pred_gnbc,y_test,average ='weighted')\n",
        "print(' Accuracy:',nb_accuracy,'\\n','Predicion :' ,nb_precision, '\\n', 'Recall :',nb_recall, '\\n', 'F1_score :', nb_f1_score)"
      ],
      "metadata": {
        "id": "FIcCzeP_Xu7m"
      },
      "execution_count": null,
      "outputs": []
    },
    {
      "cell_type": "markdown",
      "source": [
        "### ML Model - 3"
      ],
      "metadata": {
        "id": "Fze-IPXLpx6K"
      }
    },
    {
      "cell_type": "code",
      "source": [
        "svm = SVC(random_state=0, probability =True)\n",
        "svm.fit(X_train, y_train)"
      ],
      "metadata": {
        "id": "FFrSXAtrpx6M"
      },
      "execution_count": null,
      "outputs": []
    },
    {
      "cell_type": "code",
      "source": [
        "print(\"Training set score: {:.2f}\".format(svm.score(X_train, y_train)))\n",
        "print(\"Test set score: {:.2f}\".format(svm.score(X_test, y_test)))"
      ],
      "metadata": {
        "id": "gT7AGADfX7jJ"
      },
      "execution_count": null,
      "outputs": []
    },
    {
      "cell_type": "code",
      "source": [
        "pred_train_svm = svm.predict(X_train)"
      ],
      "metadata": {
        "id": "gq1JsQFDX9rN"
      },
      "execution_count": null,
      "outputs": []
    },
    {
      "cell_type": "code",
      "source": [
        "y_pred_svm = svm.predict(X_test)"
      ],
      "metadata": {
        "id": "hbvGY3oGX_8K"
      },
      "execution_count": null,
      "outputs": []
    },
    {
      "cell_type": "markdown",
      "source": [
        "#### 1. Explain the ML Model used and it's performance using Evaluation metric Score Chart."
      ],
      "metadata": {
        "id": "7AN1z2sKpx6M"
      }
    },
    {
      "cell_type": "code",
      "source": [
        "print(classification_report(y_test, y_pred_svm))"
      ],
      "metadata": {
        "id": "xIY4lxxGpx6M"
      },
      "execution_count": null,
      "outputs": []
    },
    {
      "cell_type": "code",
      "source": [
        "labels = ['No CHD', 'CHD']\n",
        "cm = confusion_matrix(y_train, pred_train_svm)\n",
        "print(cm)\n",
        "\n",
        "ax= plt.subplot()\n",
        "sns.heatmap(cm, annot=True, ax = ax) #annot=True to annotate cells\n",
        "\n",
        "# labels, title and ticks\n",
        "ax.set_xlabel('Predicted labels')\n",
        "ax.set_ylabel('True labels')\n",
        "ax.set_title('Confusion Matrix')\n",
        "ax.xaxis.set_ticklabels(labels)\n",
        "ax.yaxis.set_ticklabels(labels)"
      ],
      "metadata": {
        "id": "DLwBQjA5YFuv"
      },
      "execution_count": null,
      "outputs": []
    },
    {
      "cell_type": "code",
      "source": [
        "labels = ['No CHD', 'CHD']\n",
        "cm = confusion_matrix(y_test, y_pred_svm)\n",
        "print(cm)\n",
        "\n",
        "ax= plt.subplot()\n",
        "sns.heatmap(cm, annot=True, ax = ax) #annot=True to annotate cells\n",
        "\n",
        "# labels, title and ticks\n",
        "ax.set_xlabel('Predicted labels')\n",
        "ax.set_ylabel('True labels')\n",
        "ax.set_title('Confusion Matrix')\n",
        "ax.xaxis.set_ticklabels(labels)\n",
        "ax.yaxis.set_ticklabels(labels)"
      ],
      "metadata": {
        "id": "Wc0WMR3ZYIcr"
      },
      "execution_count": null,
      "outputs": []
    },
    {
      "cell_type": "code",
      "source": [
        "class_probabilities = svm.predict_proba(X_test)\n",
        "preds = class_probabilities[:, 1]\n",
        "\n",
        "fpr, tpr, threshold = roc_curve(y_test, preds)\n",
        "roc_auc = auc(fpr, tpr)\n",
        "\n",
        "# Printing AUC\n",
        "print(f\"AUC for our classifier is: {roc_auc}\")\n",
        "\n",
        "# Plotting the ROC\n",
        "plt.title('Receiver Operating Characteristic')\n",
        "plt.plot(fpr, tpr, label = 'AUC = %0.2f' % roc_auc)\n",
        "plt.legend(loc = 'lower right')\n",
        "plt.plot([0, 1], [0, 1], 'k--')\n",
        "plt.xlim([0, 1])\n",
        "plt.ylim([0, 1])\n",
        "plt.ylabel('True Positive Rate')\n",
        "plt.xlabel('False Positive Rate')\n",
        "plt.show()"
      ],
      "metadata": {
        "id": "AdaFgt12YLiF"
      },
      "execution_count": null,
      "outputs": []
    },
    {
      "cell_type": "markdown",
      "source": [
        "#### 2. Cross- Validation & Hyperparameter Tuning"
      ],
      "metadata": {
        "id": "9PIHJqyupx6M"
      }
    },
    {
      "cell_type": "code",
      "source": [
        "param_grid = {'C': [0.1, 1, 10, 100, 1000], \n",
        "              'gamma': [1, 0.1, 0.01, 0.001, 0.0001],\n",
        "              'kernel': ['rbf']} \n",
        "  \n",
        "grid_svm = GridSearchCV(SVC(), param_grid, refit = True, verbose = 3)"
      ],
      "metadata": {
        "id": "eSVXuaSKpx6M"
      },
      "execution_count": null,
      "outputs": []
    },
    {
      "cell_type": "code",
      "source": [
        "grid_svm.fit(X_train, y_train)"
      ],
      "metadata": {
        "id": "IvRZ2xJAYR_y"
      },
      "execution_count": null,
      "outputs": []
    },
    {
      "cell_type": "code",
      "source": [
        "# print best parameter after tuning\n",
        "print(grid_svm.best_params_)\n",
        "  \n",
        "# print how our model looks after hyper-parameter tuning\n",
        "print(grid_svm.best_estimator_)"
      ],
      "metadata": {
        "id": "NWz68u5oYVKP"
      },
      "execution_count": null,
      "outputs": []
    },
    {
      "cell_type": "code",
      "source": [
        "print(\"Training set score: {:.2f}\".format(grid_svm.score(X_train, y_train)))\n",
        "print(\"Test set score: {:.2f}\".format(grid_svm.score(X_test, y_test)))"
      ],
      "metadata": {
        "id": "bU39N9hBYYOj"
      },
      "execution_count": null,
      "outputs": []
    },
    {
      "cell_type": "code",
      "source": [
        "pred_train_svm = grid_svm.predict(X_train)"
      ],
      "metadata": {
        "id": "0PFVl94ZYa62"
      },
      "execution_count": null,
      "outputs": []
    },
    {
      "cell_type": "code",
      "source": [
        "y_pred_gsvm = grid_svm.predict(X_test)"
      ],
      "metadata": {
        "id": "ZJI1iIclYaw4"
      },
      "execution_count": null,
      "outputs": []
    },
    {
      "cell_type": "code",
      "source": [
        "print(classification_report(y_test, y_pred_gsvm))"
      ],
      "metadata": {
        "id": "hMKqq4nTYahA"
      },
      "execution_count": null,
      "outputs": []
    },
    {
      "cell_type": "code",
      "source": [
        "labels = ['No CHD', 'CHD']\n",
        "cm = confusion_matrix(y_train, pred_train_svm)\n",
        "print(cm)\n",
        "\n",
        "ax= plt.subplot()\n",
        "sns.heatmap(cm, annot=True, ax = ax) #annot=True to annotate cells\n",
        "\n",
        "# labels, title and ticks\n",
        "ax.set_xlabel('Predicted labels')\n",
        "ax.set_ylabel('True labels')\n",
        "ax.set_title('Confusion Matrix')\n",
        "ax.xaxis.set_ticklabels(labels)\n",
        "ax.yaxis.set_ticklabels(labels)"
      ],
      "metadata": {
        "id": "oSsgnOhYYjfj"
      },
      "execution_count": null,
      "outputs": []
    },
    {
      "cell_type": "code",
      "source": [
        "labels = ['No CHD', 'CHD']\n",
        "cm = confusion_matrix(y_test, y_pred_gsvm)\n",
        "print(cm)\n",
        "\n",
        "ax= plt.subplot()\n",
        "sns.heatmap(cm, annot=True, ax = ax) #annot=True to annotate cells\n",
        "\n",
        "# labels, title and ticks\n",
        "ax.set_xlabel('Predicted labels')\n",
        "ax.set_ylabel('True labels')\n",
        "ax.set_title('Confusion Matrix')\n",
        "ax.xaxis.set_ticklabels(labels)\n",
        "ax.yaxis.set_ticklabels(labels)"
      ],
      "metadata": {
        "id": "kXt9G8G6YqKx"
      },
      "execution_count": null,
      "outputs": []
    },
    {
      "cell_type": "code",
      "source": [
        "# Precision , Recall , F1 score for the model\n",
        "svm_accuracy = accuracy_score(y_pred_gsvm, y_test)\n",
        "svm_precision = precision_score(y_pred_gsvm ,y_test, average ='weighted')\n",
        "svm_recall = recall_score(y_pred_gsvm, y_test, average ='weighted')\n",
        "svm_f1_score = f1_score(y_pred_gsvm,y_test,average ='weighted')\n",
        "print(' Accuracy:',svm_accuracy,'\\n','Predicion :' ,svm_precision, '\\n', 'Recall :',svm_recall, '\\n', 'F1_score :', svm_f1_score)"
      ],
      "metadata": {
        "id": "A1H7PCjoYtp-"
      },
      "execution_count": null,
      "outputs": []
    },
    {
      "cell_type": "markdown",
      "source": [
        "# Model -4 : Random Forest Classification"
      ],
      "metadata": {
        "id": "-Khr9s3JZhl2"
      }
    },
    {
      "cell_type": "code",
      "source": [
        "rfc = RandomForestClassifier(n_estimators=100,max_depth=15,random_state=30,min_samples_split=3,criterion='entropy')\n",
        "rfc.fit(X_train, y_train)"
      ],
      "metadata": {
        "id": "cj4qYNNZZ3Oq"
      },
      "execution_count": null,
      "outputs": []
    },
    {
      "cell_type": "code",
      "source": [
        "print(\"Training set score: {:.2f}\".format(rfc.score(X_train, y_train)))\n",
        "print(\"Test set score: {:.2f}\".format(rfc.score(X_test, y_test)))"
      ],
      "metadata": {
        "id": "wYX6kAMSZ6uj"
      },
      "execution_count": null,
      "outputs": []
    },
    {
      "cell_type": "code",
      "source": [
        "pred_train_rfc = rfc.predict(X_train)"
      ],
      "metadata": {
        "id": "H0zkJsEeZ9fQ"
      },
      "execution_count": null,
      "outputs": []
    },
    {
      "cell_type": "code",
      "source": [
        "y_pred_rfc = rfc.predict(X_test)"
      ],
      "metadata": {
        "id": "AS207_XaaAEE"
      },
      "execution_count": null,
      "outputs": []
    },
    {
      "cell_type": "markdown",
      "source": [
        "1. Explain the ML Model used and it's performance using Evaluation metric Score Chart.\n"
      ],
      "metadata": {
        "id": "V1U-7HK9aDNV"
      }
    },
    {
      "cell_type": "code",
      "source": [
        "print(roc_auc_score(y_test, y_pred_rfc))"
      ],
      "metadata": {
        "id": "4fL1acx1aHaV"
      },
      "execution_count": null,
      "outputs": []
    },
    {
      "cell_type": "code",
      "source": [
        "print(classification_report(y_test, y_pred_rfc))"
      ],
      "metadata": {
        "id": "mOnUBsf1aJxw"
      },
      "execution_count": null,
      "outputs": []
    },
    {
      "cell_type": "code",
      "source": [
        "labels = ['No CHD', 'CHD']\n",
        "cm = confusion_matrix(y_train, pred_train_rfc)\n",
        "print(cm)\n",
        "\n",
        "ax= plt.subplot()\n",
        "sns.heatmap(cm, annot=True, ax = ax) #annot=True to annotate cells\n",
        "\n",
        "# labels, title and ticks\n",
        "ax.set_xlabel('Predicted labels')\n",
        "ax.set_ylabel('True labels')\n",
        "ax.set_title('Confusion Matrix')\n",
        "ax.xaxis.set_ticklabels(labels)\n",
        "ax.yaxis.set_ticklabels(labels)"
      ],
      "metadata": {
        "id": "fKsK3QocaMmZ"
      },
      "execution_count": null,
      "outputs": []
    },
    {
      "cell_type": "code",
      "source": [
        "labels = ['No CHD', 'CHD']\n",
        "cm = confusion_matrix(y_test, y_pred_rfc)\n",
        "print(cm)\n",
        "\n",
        "ax= plt.subplot()\n",
        "sns.heatmap(cm, annot=True, ax = ax) #annot=True to annotate cells\n",
        "\n",
        "# labels, title and ticks\n",
        "ax.set_xlabel('Predicted labels')\n",
        "ax.set_ylabel('True labels')\n",
        "ax.set_title('Confusion Matrix')\n",
        "ax.xaxis.set_ticklabels(labels)\n",
        "ax.yaxis.set_ticklabels(labels)"
      ],
      "metadata": {
        "id": "q7EJjPKvaPdn"
      },
      "execution_count": null,
      "outputs": []
    },
    {
      "cell_type": "code",
      "source": [
        "class_probabilities = rfc.predict_proba(X_test)\n",
        "preds = class_probabilities[:, 1]\n",
        "\n",
        "fpr, tpr, threshold = roc_curve(y_test, preds)\n",
        "roc_auc = auc(fpr, tpr)\n",
        "\n",
        "# Printing AUC\n",
        "print(f\"AUC for our classifier is: {roc_auc}\")\n",
        "\n",
        "# Plotting the ROC\n",
        "plt.title('Receiver Operating Characteristic')\n",
        "plt.plot(fpr, tpr, label = 'AUC = %0.2f' % roc_auc)\n",
        "plt.legend(loc = 'lower right')\n",
        "plt.plot([0, 1], [0, 1], 'k--')\n",
        "plt.xlim([0, 1])\n",
        "plt.ylim([0, 1])\n",
        "plt.ylabel('True Positive Rate')\n",
        "plt.xlabel('False Positive Rate')\n",
        "plt.show()"
      ],
      "metadata": {
        "id": "Lt4kzpQdaPaY"
      },
      "execution_count": null,
      "outputs": []
    },
    {
      "cell_type": "code",
      "source": [
        "# Precision , Recall , F1 score for the model\n",
        "rf_accuracy = accuracy_score(y_pred_rfc, y_test)\n",
        "rf_precision = precision_score(y_pred_rfc ,y_test, average ='weighted')\n",
        "rf_recall = recall_score(y_pred_rfc, y_test, average ='weighted')\n",
        "rf_f1_score = f1_score(y_pred_rfc,y_test,average ='weighted')\n",
        "print(' Accuracy:',rf_accuracy,'\\n','Predicion :' ,rf_precision, '\\n', 'Recall :',rf_recall, '\\n', 'F1_score :', rf_f1_score)"
      ],
      "metadata": {
        "id": "ezhwOqhRaV_l"
      },
      "execution_count": null,
      "outputs": []
    },
    {
      "cell_type": "markdown",
      "metadata": {
        "id": "dixaIDzAaUXJ"
      },
      "source": [
        "# Model -5 : XG-Boost **Classification** bold text"
      ]
    },
    {
      "cell_type": "code",
      "source": [
        "xgb = XGBClassifier(use_label_encoder=False, eval_metric='mlogloss')\n",
        "xgb.fit(X_train, y_train)"
      ],
      "metadata": {
        "id": "Ex2KVaAzbSwt"
      },
      "execution_count": null,
      "outputs": []
    },
    {
      "cell_type": "code",
      "source": [
        "print(\"Training set score: {:.2f}\".format(xgb.score(X_train, y_train)))\n",
        "print(\"Test set score: {:.2f}\".format(xgb.score(X_test, y_test)))"
      ],
      "metadata": {
        "id": "7y2JUb8CbhFV"
      },
      "execution_count": null,
      "outputs": []
    },
    {
      "cell_type": "code",
      "source": [
        "pred_train_xgb = xgb.predict(X_train)"
      ],
      "metadata": {
        "id": "7Rlo5ZUjbg5V"
      },
      "execution_count": null,
      "outputs": []
    },
    {
      "cell_type": "code",
      "source": [
        "y_pred_xgb = xgb.predict(X_test)"
      ],
      "metadata": {
        "id": "RueM_Kg9bg0C"
      },
      "execution_count": null,
      "outputs": []
    },
    {
      "cell_type": "markdown",
      "metadata": {
        "id": "m6EgJYHqVs0S"
      },
      "source": [
        "#### 1. Explain the ML Model used and it's performance using Evaluation metric Score Chart."
      ]
    },
    {
      "cell_type": "code",
      "source": [
        "print(classification_report(y_test, y_pred_xgb))"
      ],
      "metadata": {
        "id": "M23_vmG6brcz"
      },
      "execution_count": null,
      "outputs": []
    },
    {
      "cell_type": "code",
      "source": [
        "labels = ['No CHD', 'CHD']\n",
        "cm = confusion_matrix(y_train, pred_train_xgb)\n",
        "print(cm)\n",
        "\n",
        "ax= plt.subplot()\n",
        "sns.heatmap(cm, annot=True, ax = ax) #annot=True to annotate cells\n",
        "\n",
        "# labels, title and ticks\n",
        "ax.set_xlabel('Predicted labels')\n",
        "ax.set_ylabel('True labels')\n",
        "ax.set_title('Confusion Matrix')\n",
        "ax.xaxis.set_ticklabels(labels)\n",
        "ax.yaxis.set_ticklabels(labels)"
      ],
      "metadata": {
        "id": "Kq8BudVubu3p"
      },
      "execution_count": null,
      "outputs": []
    },
    {
      "cell_type": "code",
      "source": [
        "labels = ['No CHD', 'CHD']\n",
        "cm = confusion_matrix(y_test, y_pred_xgb)\n",
        "print(cm)\n",
        "\n",
        "ax= plt.subplot()\n",
        "sns.heatmap(cm, annot=True, ax = ax) #annot=True to annotate cells\n",
        "\n",
        "# labels, title and ticks\n",
        "ax.set_xlabel('Predicted labels')\n",
        "ax.set_ylabel('True labels')\n",
        "ax.set_title('Confusion Matrix')\n",
        "ax.xaxis.set_ticklabels(labels)\n",
        "ax.yaxis.set_ticklabels(labels)"
      ],
      "metadata": {
        "id": "vVlU_K_5bxmq"
      },
      "execution_count": null,
      "outputs": []
    },
    {
      "cell_type": "code",
      "source": [
        "class_probabilities = xgb.predict_proba(X_test)\n",
        "preds = class_probabilities[:, 1]\n",
        "\n",
        "fpr, tpr, threshold = roc_curve(y_test, preds)\n",
        "roc_auc = auc(fpr, tpr)\n",
        "\n",
        "# Printing AUC\n",
        "print(f\"AUC for our classifier is: {roc_auc}\")\n",
        "\n",
        "# Plotting the ROC\n",
        "plt.title('Receiver Operating Characteristic')\n",
        "plt.plot(fpr, tpr, label = 'AUC = %0.2f' % roc_auc)\n",
        "plt.legend(loc = 'lower right')\n",
        "plt.plot([0, 1], [0, 1], 'k--')\n",
        "plt.xlim([0, 1])\n",
        "plt.ylim([0, 1])\n",
        "plt.ylabel('True Positive Rate')\n",
        "plt.xlabel('False Positive Rate')\n",
        "plt.show()"
      ],
      "metadata": {
        "id": "hvsbN6VWb03g"
      },
      "execution_count": null,
      "outputs": []
    },
    {
      "cell_type": "code",
      "source": [
        "# Precision , Recall , F1 score for the model\n",
        "xgb_accuracy = accuracy_score(y_pred_xgb, y_test)\n",
        "xgb_precision = precision_score(y_pred_xgb ,y_test, average ='weighted')\n",
        "xgb_recall = recall_score(y_pred_xgb, y_test, average ='weighted')\n",
        "xgb_f1_score = f1_score(y_pred_xgb,y_test,average ='weighted')\n",
        "print(' Accuracy:',xgb_accuracy,'\\n','Predicion :' ,xgb_precision, '\\n', 'Recall :',xgb_recall, '\\n', 'F1_score :', xgb_f1_score)"
      ],
      "metadata": {
        "id": "zK9wvoThb3wP"
      },
      "execution_count": null,
      "outputs": []
    },
    {
      "cell_type": "markdown",
      "metadata": {
        "id": "x35TDlnj4LU9"
      },
      "source": [
        "# Model-6 : KNN Classification"
      ]
    },
    {
      "cell_type": "code",
      "source": [
        "# calculate accuracy score for first 10 neighbors\n",
        "# Setup arrays to store training and test accuracies\n",
        "neighbors = 10\n",
        "train_accuracy = np.empty(neighbors)\n",
        "test_accuracy = np.empty(neighbors)\n",
        "\n",
        "for i in range(1, neighbors + 1):\n",
        "    # Setup a knn classifier with k neighbors\n",
        "    knn = KNeighborsClassifier(n_neighbors=i)\n",
        "    # Fit the model\n",
        "    knn.fit(X_train, y_train)\n",
        "    # Compute accuracy on the training set\n",
        "    train_accuracy[i - 1] = knn.score(X_train, y_train)\n",
        "    # Compute accuracy on the test set\n",
        "    test_accuracy[i - 1] = knn.score(X_test, y_test) "
      ],
      "metadata": {
        "id": "yZNvMaRPcHrr"
      },
      "execution_count": null,
      "outputs": []
    },
    {
      "cell_type": "code",
      "source": [
        "# print accuracy\n",
        "print(\"Train Accuracy: \", train_accuracy)\n",
        "print(\"Test Accuracy: \", test_accuracy)"
      ],
      "metadata": {
        "id": "P9hgNdmGcN0U"
      },
      "execution_count": null,
      "outputs": []
    },
    {
      "cell_type": "code",
      "source": [
        "# Generate plot\n",
        "plt.title('k-NN Score with varying number of neighbors')\n",
        "x_axis = [i for i in range(1,11)]\n",
        "plt.plot(x_axis, test_accuracy, label='Testing Accuracy')\n",
        "plt.plot(x_axis, train_accuracy, label='Training accuracy')\n",
        "plt.legend()\n",
        "plt.xlabel('Number of neighbors')\n",
        "plt.ylabel('Accuracy')\n",
        "plt.show()\n",
        "     "
      ],
      "metadata": {
        "id": "X3i0_35gcQTl"
      },
      "execution_count": null,
      "outputs": []
    },
    {
      "cell_type": "code",
      "source": [
        "param_grid = {'n_neighbors':np.arange(1,50),\n",
        "               'weights' : ['uniform','distance'],\n",
        "               'metric' : ['minkowski','euclidean','manhattan']\n",
        "              }"
      ],
      "metadata": {
        "id": "5niyHcopcWMd"
      },
      "execution_count": null,
      "outputs": []
    },
    {
      "cell_type": "code",
      "source": [
        "knn = KNeighborsClassifier()\n",
        "knn_cv= GridSearchCV(knn,param_grid,cv=3, verbose=1, n_jobs=-1)\n",
        "knn_cv.fit(X_train,y_train)"
      ],
      "metadata": {
        "id": "nAWgRROccYpX"
      },
      "execution_count": null,
      "outputs": []
    },
    {
      "cell_type": "code",
      "source": [
        "# best score and paramter from above options\n",
        "print('best_score :',knn_cv.best_score_)\n",
        "print(knn_cv.best_params_)"
      ],
      "metadata": {
        "id": "f1Gnl8k_cbBG"
      },
      "execution_count": null,
      "outputs": []
    },
    {
      "cell_type": "code",
      "source": [
        "print(\"Training set score: {:.2f}\".format(knn_cv.score(X_train, y_train)))\n",
        "print(\"Test set score: {:.2f}\".format(knn_cv.score(X_test, y_test)))"
      ],
      "metadata": {
        "id": "z-Z_HQoecdr7"
      },
      "execution_count": null,
      "outputs": []
    },
    {
      "cell_type": "code",
      "source": [
        "pred_train_knn = knn_cv.predict(X_train)"
      ],
      "metadata": {
        "id": "I8LjPGbKchEF"
      },
      "execution_count": null,
      "outputs": []
    },
    {
      "cell_type": "code",
      "source": [
        "y_pred_knn = knn_cv.predict(X_test)"
      ],
      "metadata": {
        "id": "dea-nfx8cjcB"
      },
      "execution_count": null,
      "outputs": []
    },
    {
      "cell_type": "code",
      "source": [
        "print(classification_report(y_test, y_pred_knn))"
      ],
      "metadata": {
        "id": "eDY481YrcjUX"
      },
      "execution_count": null,
      "outputs": []
    },
    {
      "cell_type": "code",
      "source": [
        "labels = ['No CHD', 'CHD']\n",
        "cm = confusion_matrix(y_train, pred_train_knn)\n",
        "print(cm)\n",
        "\n",
        "ax= plt.subplot()\n",
        "sns.heatmap(cm, annot=True, ax = ax) #annot=True to annotate cells\n",
        "\n",
        "# labels, title and ticks\n",
        "ax.set_xlabel('Predicted labels')\n",
        "ax.set_ylabel('True labels')\n",
        "ax.set_title('Confusion Matrix')\n",
        "ax.xaxis.set_ticklabels(labels)\n",
        "ax.yaxis.set_ticklabels(labels)"
      ],
      "metadata": {
        "id": "t51JJmv5coeD"
      },
      "execution_count": null,
      "outputs": []
    },
    {
      "cell_type": "code",
      "source": [
        "labels = ['No CHD', 'CHD']\n",
        "cm = confusion_matrix(y_test, y_pred_knn)\n",
        "print(cm)\n",
        "\n",
        "ax= plt.subplot()\n",
        "sns.heatmap(cm, annot=True, ax = ax) #annot=True to annotate cells\n",
        "\n",
        "# labels, title and ticks\n",
        "ax.set_xlabel('Predicted labels')\n",
        "ax.set_ylabel('True labels')\n",
        "ax.set_title('Confusion Matrix')\n",
        "ax.xaxis.set_ticklabels(labels)\n",
        "ax.yaxis.set_ticklabels(labels)"
      ],
      "metadata": {
        "id": "dQHtfU2zcrFl"
      },
      "execution_count": null,
      "outputs": []
    },
    {
      "cell_type": "code",
      "source": [
        "class_probabilities = knn_cv.predict_proba(X_test)\n",
        "preds = class_probabilities[:, 1]\n",
        "\n",
        "fpr, tpr, threshold = roc_curve(y_test, preds)\n",
        "roc_auc = auc(fpr, tpr)\n",
        "\n",
        "# Printing AUC\n",
        "print(f\"AUC for our classifier is: {roc_auc}\")\n",
        "\n",
        "# Plotting the ROC\n",
        "plt.title('Receiver Operating Characteristic')\n",
        "plt.plot(fpr, tpr, label = 'AUC = %0.2f' % roc_auc)\n",
        "plt.legend(loc = 'lower right')\n",
        "plt.plot([0, 1], [0, 1], 'k--')\n",
        "plt.xlim([0, 1])\n",
        "plt.ylim([0, 1])\n",
        "plt.ylabel('True Positive Rate')\n",
        "plt.xlabel('False Positive Rate')\n",
        "plt.show()"
      ],
      "metadata": {
        "id": "kXFeRkT4cvBW"
      },
      "execution_count": null,
      "outputs": []
    },
    {
      "cell_type": "code",
      "source": [
        "# Precision , Recall , F1 score for the model\n",
        "knn_accuracy = accuracy_score(y_pred_knn, y_test)\n",
        "knn_precision = precision_score(y_pred_knn ,y_test, average ='weighted')\n",
        "knn_recall = recall_score(y_pred_knn, y_test, average ='weighted')\n",
        "knn_f1_score = f1_score(y_pred_knn,y_test,average ='weighted')\n",
        "print(' Accuracy:',knn_accuracy,'\\n','Predicion :' ,knn_precision, '\\n', 'Recall :',knn_recall, '\\n', 'F1_score :', knn_f1_score)"
      ],
      "metadata": {
        "id": "6i1CCiCJcx5Y"
      },
      "execution_count": null,
      "outputs": []
    },
    {
      "cell_type": "markdown",
      "metadata": {
        "id": "h_CCil-SKHpo"
      },
      "source": [
        "### 1. Which Evaluation metrics did you consider for a positive business impact and why?"
      ]
    },
    {
      "cell_type": "markdown",
      "metadata": {
        "id": "vjyTV2M-DQMB"
      },
      "source": [
        "\n",
        "Accuracy is not the best metric to use when evaluating imbalanced datasets as it can be misleading.\n",
        "\n",
        "Metrics considered for evaluation are as follows :\n",
        "\n",
        "* **Confusion Matrix**: a table showing correct predictions and types of incorrect predictions.\n",
        "* **Precision**: the number of true positives divided by all positive predictions. Precision is also called Positive Predictive Value. It is a measure of a classifier’s exactness. Low precision indicates a high number of false positives.\n",
        "* **Recall**: the number of true positives divided by the number of positive values in the test data. The recall is also called Sensitivity or the True Positive Rate. It is a measure of a classifier’s completeness. Low recall indicates a high number of false negatives.\n",
        "* **F1 Score**: the weighted average of precision and recall.\n",
        "* **Area Under ROC Curve (AUC-ROC)**: AUC-ROC represents the likelihood of your model distinguishing observations from two classes. In other words, if you randomly select one observation from each class, what’s the probability that your model will be able to “rank” them correctly?"
      ]
    },
    {
      "cell_type": "markdown",
      "metadata": {
        "id": "cBFFvTBNJzUa"
      },
      "source": [
        "### 2. Which ML model did you choose from the above created models as your final prediction model and why?"
      ]
    },
    {
      "cell_type": "markdown",
      "metadata": {
        "id": "eD9SVeMRPLx5"
      },
      "source": [
        "*Considering the optimal values from the above table and auc_roc curve , Random Forest gives the best result*"
      ]
    },
    {
      "cell_type": "markdown",
      "source": [
        "### 3. Explain feature importance ?"
      ],
      "metadata": {
        "id": "HvGl1hHyA_VK"
      }
    },
    {
      "cell_type": "code",
      "source": [
        "importances = pd.DataFrame({'Features': X.columns, \n",
        "                                'Importances': rfc.feature_importances_})\n",
        "    \n",
        "importances.sort_values(by=['Importances'], axis='index', ascending=False, inplace=True)\n",
        "fig = plt.figure(figsize=(14, 4))\n",
        "sns.barplot(x='Features', y='Importances', data=importances)\n",
        "plt.xticks(rotation='vertical')\n",
        "plt.title('Feature importance score w.r.t. Random Forest model')\n",
        "plt.show()\n",
        "     "
      ],
      "metadata": {
        "id": "0yj5hpPFfko9"
      },
      "execution_count": null,
      "outputs": []
    },
    {
      "cell_type": "markdown",
      "source": [
        "*Age is the most important factor , when diagonising a patient related to CHD , followed by heart Rate. Hence, more focus be given on these factors*"
      ],
      "metadata": {
        "id": "0E-2d1dhlKas"
      }
    },
    {
      "cell_type": "markdown",
      "source": [
        "# **Conclusion**"
      ],
      "metadata": {
        "id": "gCX9965dhzqZ"
      }
    },
    {
      "cell_type": "markdown",
      "source": [
        "6 different Machine Learning algorithms were trained on training dataset\n",
        "\n",
        "Random forest provided best results and thus classifying the patients with an F1-score and test accuracy of 90 %\n",
        "\n",
        "To provide immediate treatment to the patients at arisk of CHD. Type II error should be low, i.e. High Recall value is desired\n",
        "\n",
        "To avoid time consumption on providing patients with CHD treatment ,when actually they don't have any. Type I error should be low, i.e. High Precision is desired.\n",
        "\n",
        "To treat patients with actual risk of CHD, there should be a balance between precision & recall. i.e. High F1-score is desirable , since it punishes the extreme values more.\n",
        "\n",
        "The models which provide the above desired results are as follows :\n",
        "Recall : k-Nearest Neighbors\n",
        "\n",
        "Precision : Support Vector Machines\n",
        "F1-score : Random Forest\n",
        "Test Accuracy : Random Forest\n",
        "\n",
        "Age is the deciding factors for the patients mentioned in the dataset, followed by heart_rate, cigerettes per day and cholestrol level.\n",
        "\n",
        "More focus should be given on the above mentioned features of the patients attending for treatment.\n",
        "\n",
        "Though count of patients not suffering from CHD is more, count of patients with risk of CHD is high."
      ],
      "metadata": {
        "id": "Fjb1IsQkh3yE"
      }
    },
    {
      "cell_type": "markdown",
      "source": [
        "### ***Hurrah! You have successfully completed your Machine Learning Capstone Project !!!***"
      ],
      "metadata": {
        "id": "gIfDvo9L0UH2"
      }
    }
  ]
}